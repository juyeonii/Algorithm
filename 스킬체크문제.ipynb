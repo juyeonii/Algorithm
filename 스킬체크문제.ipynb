{
 "cells": [
  {
   "cell_type": "markdown",
   "id": "17dc69c0",
   "metadata": {},
   "source": [
    "# 완전탐색(모의고사)"
   ]
  },
  {
   "cell_type": "markdown",
   "id": "b263167f",
   "metadata": {},
   "source": [
    "1번 수포자가 찍는 방식: 1, 2, 3, 4, 5, 1, 2, 3, 4, 5, ...\n",
    "2번 수포자가 찍는 방식: 2, 1, 2, 3, 2, 4, 2, 5, 2, 1, 2, 3, 2, 4, 2, 5, ...\n",
    "3번 수포자가 찍는 방식: 3, 3, 1, 1, 2, 2, 4, 4, 5, 5, 3, 3, 1, 1, 2, 2, 4, 4, 5, 5, ...\n",
    "\n",
    "1번 문제부터 마지막 문제까지의 정답이 순서대로 들은 배열 answers가 주어졌을 때, 가장 많은 문제를 맞힌 사람이 누구인지 배열에 담아 return 하도록 solution 함수를 작성해주세요."
   ]
  },
  {
   "cell_type": "code",
   "execution_count": 31,
   "id": "7fb76a4d",
   "metadata": {},
   "outputs": [],
   "source": [
    "def solution(answers):\n",
    "    s1=[1,2,3,4,5]\n",
    "    s2=[2,1,2,3,2,4,2,5]\n",
    "    s3=[3,3,1,1,2,2,4,4,5,5]\n",
    "    cnt=[0,0,0,0]\n",
    "    for i in range(len(answers)):\n",
    "        if answers[i]==s1[i%5]: #5주기로 반복\n",
    "            cnt[1]+=1\n",
    "        if answers[i]==s2[i%8]: #8주기로 반복\n",
    "            cnt[2]+=1\n",
    "        if answers[i]==s3[i%10]:\n",
    "            cnt[3]+=1\n",
    "    max_cnt=max(cnt)\n",
    "    answer = []\n",
    "    for i in range(4): #최대값 구하기.\n",
    "        if max_cnt==cnt[i]:\n",
    "            answer.append(i)\n",
    "    return answer"
   ]
  },
  {
   "cell_type": "markdown",
   "id": "fc1bd973",
   "metadata": {},
   "source": [
    "# 빈병 콜라 문제"
   ]
  },
  {
   "cell_type": "code",
   "execution_count": 35,
   "id": "9eb5b468",
   "metadata": {},
   "outputs": [
    {
     "data": {
      "text/plain": [
       "30"
      ]
     },
     "execution_count": 35,
     "metadata": {},
     "output_type": "execute_result"
    }
   ],
   "source": [
    "def solution(a, b, n):\n",
    "    answer = 0\n",
    "    remain=0\n",
    "    while n>=a:\n",
    "        answer+=(n//a)*b\n",
    "        remain+=n%a\n",
    "        n=(n//a)*b\n",
    "    remain=remain+n\n",
    "    answer=answer+(remain//a)*b\n",
    "    return answer\n",
    "solution(3,2,20)"
   ]
  },
  {
   "cell_type": "markdown",
   "id": "4c1a6af3",
   "metadata": {},
   "source": [
    "문제이해가안된다.. 난 멍청이다"
   ]
  },
  {
   "cell_type": "code",
   "execution_count": 36,
   "id": "39650d4d",
   "metadata": {},
   "outputs": [
    {
     "data": {
      "text/plain": [
       "36"
      ]
     },
     "execution_count": 36,
     "metadata": {},
     "output_type": "execute_result"
    }
   ],
   "source": [
    "#해답\n",
    "def solution(a, b, n):\n",
    "    answer = 0\n",
    "    while n >= a:\n",
    "        answer += (n // a) * b\n",
    "        n = (n // a) * b + (n % a)\n",
    "    return answer\n",
    "solution(3,2,20)"
   ]
  },
  {
   "cell_type": "code",
   "execution_count": 30,
   "id": "928b9c42",
   "metadata": {},
   "outputs": [],
   "source": [
    "def solution(dartResult):\n",
    "    score=[]\n",
    "    for i in range(len(dartResult)):\n",
    "        if dartResult[i]==\"1\" and dartResult[i+1]==\"0\":\n",
    "            dartResult[i+1]=\"10\"\n",
    "            \n",
    "        else:\n",
    "            if dartResult[i]==\"S\":\n",
    "                score.append(int(dartResult[i-1]))\n",
    "            elif dartResult[i]==\"D\":\n",
    "                score.append(int(dartResult[i-1])**2)\n",
    "            elif dartResult[i]==\"T\":\n",
    "                score.append(int(dartResult[i-1])**3)\n",
    "            elif dartResult[i]==\"#\":\n",
    "                score[-1]=-score[-1]\n",
    "            elif dartResult[i]==\"*\" and len(score)>=2:\n",
    "                score[-2]=2*score[-2]\n",
    "                score[-1]=2*score[-1]\n",
    "            elif dartResult[i]==\"*\" and len(score)==1:\n",
    "                score[-1]=2*score[-1]\n",
    "    answer=sum(score)\n",
    "    return answer\n",
    "\n"
   ]
  },
  {
   "cell_type": "markdown",
   "id": "677cd16e",
   "metadata": {},
   "source": [
    "# 롤케이크 문제"
   ]
  },
  {
   "cell_type": "code",
   "execution_count": 40,
   "id": "ae7cd5c0",
   "metadata": {},
   "outputs": [
    {
     "data": {
      "text/plain": [
       "2"
      ]
     },
     "execution_count": 40,
     "metadata": {},
     "output_type": "execute_result"
    }
   ],
   "source": [
    "def solution(topping):\n",
    "    cnt=0\n",
    "    for i in range(len(topping)):\n",
    "        if len(set(topping[0:i+1]))==len(set(topping[i+1:len(topping)+1])):\n",
    "            cnt+=1\n",
    "    return cnt\n",
    "solution([1,2,1,3,1,4,1,2])"
   ]
  },
  {
   "cell_type": "markdown",
   "id": "70058b3e",
   "metadata": {},
   "source": [
    "이 방법은 맞긴 맞으나 시간초과가 발생함. 다른 알고리즘이 필요하다.\\\n",
    "collections 모듈의 Counter을 사용해야 한다."
   ]
  },
  {
   "cell_type": "markdown",
   "id": "59ee8dca",
   "metadata": {},
   "source": [
    "## collections모듈의 Counter크래스"
   ]
  },
  {
   "cell_type": "markdown",
   "id": "1b938534",
   "metadata": {},
   "source": [
    "사용하는 이유:for문을 사용해서 리스트 항목 개수를 셀 때 코드가 길어짐을 방지\\\n",
    "counter():문자열이나 list의 요소를 카운팅하여 딕셔너리 형태로 리턴"
   ]
  },
  {
   "cell_type": "code",
   "execution_count": 41,
   "id": "69e0e0df",
   "metadata": {},
   "outputs": [
    {
     "data": {
      "text/plain": [
       "Counter({'h': 1, 'e': 1, 'l': 3, 'o': 2, ' ': 1, 'w': 1, 'r': 1, 'd': 1})"
      ]
     },
     "execution_count": 41,
     "metadata": {},
     "output_type": "execute_result"
    }
   ],
   "source": [
    "from collections import Counter\n",
    "Counter(\"hello world\")"
   ]
  },
  {
   "cell_type": "code",
   "execution_count": 42,
   "id": "f4852ec0",
   "metadata": {},
   "outputs": [
    {
     "data": {
      "text/plain": [
       "[('l', 3),\n",
       " ('o', 2),\n",
       " ('h', 1),\n",
       " ('e', 1),\n",
       " (' ', 1),\n",
       " ('w', 1),\n",
       " ('r', 1),\n",
       " ('d', 1)]"
      ]
     },
     "execution_count": 42,
     "metadata": {},
     "output_type": "execute_result"
    }
   ],
   "source": [
    "Counter(\"hello world\").most_common()"
   ]
  },
  {
   "cell_type": "code",
   "execution_count": 43,
   "id": "5b15c25a",
   "metadata": {},
   "outputs": [
    {
     "data": {
      "text/plain": [
       "[('l', 3)]"
      ]
     },
     "execution_count": 43,
     "metadata": {},
     "output_type": "execute_result"
    }
   ],
   "source": [
    "Counter(\"hello world\").most_common(1)"
   ]
  },
  {
   "cell_type": "code",
   "execution_count": 52,
   "id": "ef859e73",
   "metadata": {},
   "outputs": [],
   "source": [
    "#counter을 사용해보자 \n",
    "from collections import Counter\n",
    "def solution(topping):\n",
    "    answer=0\n",
    "    cnt=Counter(topping)\n",
    "    set_=set()\n",
    "    for x in topping:\n",
    "        cnt[x]-=1\n",
    "        set_.add(x)\n",
    "        if cnt[x]==0:\n",
    "            cnt.pop(x)\n",
    "        if len(cnt)==len(set_):\n",
    "            answer+=1\n",
    "    return answer"
   ]
  },
  {
   "cell_type": "markdown",
   "id": "eb11ff8b",
   "metadata": {},
   "source": [
    "#### IDEA\n",
    "1.다 가진 사람에게서 하나씩 뺏어서 set에 추가하는 방법\\\n",
    "2. set에 추가하는 함수:add\\\n",
    "3. set에서 키빼려면 pop(key)"
   ]
  },
  {
   "cell_type": "code",
   "execution_count": 55,
   "id": "b3636854",
   "metadata": {},
   "outputs": [
    {
     "ename": "IndexError",
     "evalue": "list index out of range",
     "output_type": "error",
     "traceback": [
      "\u001b[1;31m---------------------------------------------------------------------------\u001b[0m",
      "\u001b[1;31mIndexError\u001b[0m                                Traceback (most recent call last)",
      "\u001b[1;32m<ipython-input-55-4bedfbec8424>\u001b[0m in \u001b[0;36m<module>\u001b[1;34m\u001b[0m\n\u001b[0;32m      5\u001b[0m         \u001b[0manswer\u001b[0m\u001b[1;33m.\u001b[0m\u001b[0mappend\u001b[0m\u001b[1;33m(\u001b[0m\u001b[0mli\u001b[0m\u001b[1;33m[\u001b[0m\u001b[0mcommands\u001b[0m\u001b[1;33m[\u001b[0m\u001b[0mi\u001b[0m\u001b[1;33m]\u001b[0m\u001b[1;33m[\u001b[0m\u001b[1;36m2\u001b[0m\u001b[1;33m]\u001b[0m\u001b[1;33m+\u001b[0m\u001b[1;36m1\u001b[0m\u001b[1;33m]\u001b[0m\u001b[1;33m)\u001b[0m\u001b[1;33m\u001b[0m\u001b[1;33m\u001b[0m\u001b[0m\n\u001b[0;32m      6\u001b[0m     \u001b[1;32mreturn\u001b[0m \u001b[0manswer\u001b[0m\u001b[1;33m\u001b[0m\u001b[1;33m\u001b[0m\u001b[0m\n\u001b[1;32m----> 7\u001b[1;33m \u001b[0msolution\u001b[0m\u001b[1;33m(\u001b[0m\u001b[1;33m[\u001b[0m\u001b[1;36m1\u001b[0m\u001b[1;33m,\u001b[0m\u001b[1;36m5\u001b[0m\u001b[1;33m,\u001b[0m\u001b[1;36m2\u001b[0m\u001b[1;33m,\u001b[0m\u001b[1;36m6\u001b[0m\u001b[1;33m,\u001b[0m\u001b[1;36m3\u001b[0m\u001b[1;33m,\u001b[0m\u001b[1;36m7\u001b[0m\u001b[1;33m,\u001b[0m\u001b[1;36m4\u001b[0m\u001b[1;33m]\u001b[0m\u001b[1;33m,\u001b[0m\u001b[1;33m[\u001b[0m\u001b[1;33m[\u001b[0m\u001b[1;36m2\u001b[0m\u001b[1;33m,\u001b[0m \u001b[1;36m5\u001b[0m\u001b[1;33m,\u001b[0m \u001b[1;36m3\u001b[0m\u001b[1;33m]\u001b[0m\u001b[1;33m,\u001b[0m \u001b[1;33m[\u001b[0m\u001b[1;36m4\u001b[0m\u001b[1;33m,\u001b[0m \u001b[1;36m4\u001b[0m\u001b[1;33m,\u001b[0m \u001b[1;36m1\u001b[0m\u001b[1;33m]\u001b[0m\u001b[1;33m,\u001b[0m \u001b[1;33m[\u001b[0m\u001b[1;36m1\u001b[0m\u001b[1;33m,\u001b[0m \u001b[1;36m7\u001b[0m\u001b[1;33m,\u001b[0m \u001b[1;36m3\u001b[0m\u001b[1;33m]\u001b[0m\u001b[1;33m]\u001b[0m      \u001b[1;33m)\u001b[0m\u001b[1;33m\u001b[0m\u001b[1;33m\u001b[0m\u001b[0m\n\u001b[0m",
      "\u001b[1;32m<ipython-input-55-4bedfbec8424>\u001b[0m in \u001b[0;36msolution\u001b[1;34m(array, commands)\u001b[0m\n\u001b[0;32m      3\u001b[0m     \u001b[1;32mfor\u001b[0m \u001b[0mi\u001b[0m \u001b[1;32min\u001b[0m \u001b[0mrange\u001b[0m\u001b[1;33m(\u001b[0m\u001b[0mlen\u001b[0m\u001b[1;33m(\u001b[0m\u001b[0mcommands\u001b[0m\u001b[1;33m)\u001b[0m\u001b[1;33m)\u001b[0m\u001b[1;33m:\u001b[0m\u001b[1;33m\u001b[0m\u001b[1;33m\u001b[0m\u001b[0m\n\u001b[0;32m      4\u001b[0m         \u001b[0mli\u001b[0m\u001b[1;33m=\u001b[0m\u001b[0msorted\u001b[0m\u001b[1;33m(\u001b[0m\u001b[0marray\u001b[0m\u001b[1;33m[\u001b[0m\u001b[0mcommands\u001b[0m\u001b[1;33m[\u001b[0m\u001b[0mi\u001b[0m\u001b[1;33m]\u001b[0m\u001b[1;33m[\u001b[0m\u001b[1;36m0\u001b[0m\u001b[1;33m]\u001b[0m\u001b[1;33m-\u001b[0m\u001b[1;36m1\u001b[0m\u001b[1;33m:\u001b[0m\u001b[0mcommands\u001b[0m\u001b[1;33m[\u001b[0m\u001b[0mi\u001b[0m\u001b[1;33m]\u001b[0m\u001b[1;33m[\u001b[0m\u001b[1;36m1\u001b[0m\u001b[1;33m]\u001b[0m\u001b[1;33m]\u001b[0m\u001b[1;33m)\u001b[0m\u001b[1;33m\u001b[0m\u001b[1;33m\u001b[0m\u001b[0m\n\u001b[1;32m----> 5\u001b[1;33m         \u001b[0manswer\u001b[0m\u001b[1;33m.\u001b[0m\u001b[0mappend\u001b[0m\u001b[1;33m(\u001b[0m\u001b[0mli\u001b[0m\u001b[1;33m[\u001b[0m\u001b[0mcommands\u001b[0m\u001b[1;33m[\u001b[0m\u001b[0mi\u001b[0m\u001b[1;33m]\u001b[0m\u001b[1;33m[\u001b[0m\u001b[1;36m2\u001b[0m\u001b[1;33m]\u001b[0m\u001b[1;33m+\u001b[0m\u001b[1;36m1\u001b[0m\u001b[1;33m]\u001b[0m\u001b[1;33m)\u001b[0m\u001b[1;33m\u001b[0m\u001b[1;33m\u001b[0m\u001b[0m\n\u001b[0m\u001b[0;32m      6\u001b[0m     \u001b[1;32mreturn\u001b[0m \u001b[0manswer\u001b[0m\u001b[1;33m\u001b[0m\u001b[1;33m\u001b[0m\u001b[0m\n\u001b[0;32m      7\u001b[0m \u001b[0msolution\u001b[0m\u001b[1;33m(\u001b[0m\u001b[1;33m[\u001b[0m\u001b[1;36m1\u001b[0m\u001b[1;33m,\u001b[0m\u001b[1;36m5\u001b[0m\u001b[1;33m,\u001b[0m\u001b[1;36m2\u001b[0m\u001b[1;33m,\u001b[0m\u001b[1;36m6\u001b[0m\u001b[1;33m,\u001b[0m\u001b[1;36m3\u001b[0m\u001b[1;33m,\u001b[0m\u001b[1;36m7\u001b[0m\u001b[1;33m,\u001b[0m\u001b[1;36m4\u001b[0m\u001b[1;33m]\u001b[0m\u001b[1;33m,\u001b[0m\u001b[1;33m[\u001b[0m\u001b[1;33m[\u001b[0m\u001b[1;36m2\u001b[0m\u001b[1;33m,\u001b[0m \u001b[1;36m5\u001b[0m\u001b[1;33m,\u001b[0m \u001b[1;36m3\u001b[0m\u001b[1;33m]\u001b[0m\u001b[1;33m,\u001b[0m \u001b[1;33m[\u001b[0m\u001b[1;36m4\u001b[0m\u001b[1;33m,\u001b[0m \u001b[1;36m4\u001b[0m\u001b[1;33m,\u001b[0m \u001b[1;36m1\u001b[0m\u001b[1;33m]\u001b[0m\u001b[1;33m,\u001b[0m \u001b[1;33m[\u001b[0m\u001b[1;36m1\u001b[0m\u001b[1;33m,\u001b[0m \u001b[1;36m7\u001b[0m\u001b[1;33m,\u001b[0m \u001b[1;36m3\u001b[0m\u001b[1;33m]\u001b[0m\u001b[1;33m]\u001b[0m      \u001b[1;33m)\u001b[0m\u001b[1;33m\u001b[0m\u001b[1;33m\u001b[0m\u001b[0m\n",
      "\u001b[1;31mIndexError\u001b[0m: list index out of range"
     ]
    }
   ],
   "source": [
    "def solution(array, commands):\n",
    "    answer = []\n",
    "    for i in range(len(commands)):\n",
    "        li=sorted(array[commands[i][0]-1:commands[i][1]])\n",
    "        answer.append(li[commands[i][2]+1])\n",
    "    return answer\n",
    "solution([1,5,2,6,3,7,4],[[2, 5, 3], [4, 4, 1], [1, 7, 3]]\t)"
   ]
  },
  {
   "cell_type": "markdown",
   "id": "bf4030c6",
   "metadata": {},
   "source": [
    "# 스킬트리 문제\n",
    "skill(스킬 순서):\"CBD\"\\\n",
    "skill_trees(스킬):[\"BACED\",\"CBADF\",\"AECB\",\"BDA\""
   ]
  },
  {
   "cell_type": "code",
   "execution_count": null,
   "id": "1a400cbf",
   "metadata": {},
   "outputs": [],
   "source": [
    "#정확도 28.6\n",
    "def solution(skill, skill_trees):\n",
    "    sk=[]\n",
    "    for i in range(len(skill)):\n",
    "        sk.append(skill[0:i+1])\n",
    "    sk2=[]\n",
    "    for x in skill:\n",
    "        sk2.append(x)\n",
    "    answer=0\n",
    "    for x in skill_trees:\n",
    "        cnt=\"\"\n",
    "        for y in x:\n",
    "            if y in sk2:\n",
    "                cnt+=y\n",
    "        if cnt in sk:\n",
    "            answer+=1\n",
    "    return answer"
   ]
  },
  {
   "cell_type": "code",
   "execution_count": 1,
   "id": "e9e3ddd1",
   "metadata": {},
   "outputs": [],
   "source": [
    "#정확도 100\n",
    "def solution(skill, skill_trees):\n",
    "    sk=[]\n",
    "    for i in range(len(skill)):\n",
    "        sk.append(skill[0:i+1])\n",
    "    sk2=[]\n",
    "    for x in skill:\n",
    "        sk2.append(x)\n",
    "    answer=0\n",
    "    for x in skill_trees:\n",
    "        cnt=\"\"\n",
    "        for y in x:\n",
    "            if y in sk2:\n",
    "                cnt+=y\n",
    "        if cnt in sk:\n",
    "            answer+=1\n",
    "        if cnt==\"\": #CBD가 아닌 스킬들로 구성된 것도 통과->문제 제대로 읽어\n",
    "            answer+=1\n",
    "    return answer"
   ]
  },
  {
   "cell_type": "markdown",
   "id": "6964819c",
   "metadata": {},
   "source": [
    "# 가장 큰 정사각형 찾기"
   ]
  },
  {
   "cell_type": "code",
   "execution_count": null,
   "id": "4e04ff84",
   "metadata": {},
   "outputs": [],
   "source": [
    "#정확성 18.8\n",
    "from collections import Counter\n",
    "def solution(board):\n",
    "    li=[]\n",
    "    for x in board:\n",
    "        li.append(sum(x))\n",
    "    for i in range(len(board[0])):\n",
    "        count=0\n",
    "        for j in range(len(board)):\n",
    "            count+=board[j][i]\n",
    "        li.append(count)\n",
    "    li=Counter(li)\n",
    "    answer=li.most_common(1)\n",
    "    answer=answer[0][0]\n",
    "    return answer*answer"
   ]
  },
  {
   "cell_type": "code",
   "execution_count": 2,
   "id": "f3e16cbf",
   "metadata": {},
   "outputs": [],
   "source": [
    "#정확성 19.3\n",
    "from collections import Counter\n",
    "def solution(board):\n",
    "    li=[]\n",
    "    for x in board:\n",
    "        li.append(sum(x))\n",
    "    for i in range(len(board[0])):\n",
    "        count=0\n",
    "        for j in range(len(board)):\n",
    "            count+=board[j][i]\n",
    "        li.append(count)\n",
    "    li=Counter(li)\n",
    "    answer=li.most_common(1)\n",
    "    answer=answer[0][0]\n",
    "    return answer*answer"
   ]
  },
  {
   "cell_type": "code",
   "execution_count": null,
   "id": "43cae3d1",
   "metadata": {},
   "outputs": [],
   "source": [
    "#정확성 100\n",
    "def solution(board):\n",
    "    for i in range(1,len(board)):\n",
    "        for j in range(1,len(board[0])):\n",
    "            if board[i][j]==1:\n",
    "                board[i][j]=min(board[i-1][j-1],board[i-1][j],board[i][j-1])+1\n",
    "    li=[]\n",
    "    for x in board:\n",
    "        for y in x:\n",
    "            li.append(y)\n",
    "    return max(li)*max(li)"
   ]
  },
  {
   "cell_type": "markdown",
   "id": "e6086321",
   "metadata": {},
   "source": [
    "# 억억단"
   ]
  },
  {
   "cell_type": "code",
   "execution_count": 3,
   "id": "a31ee85f",
   "metadata": {},
   "outputs": [],
   "source": [
    "#점수 70점짜리.\n",
    "def solution(e, starts):\n",
    "    li=[i for i in range(0,e+1)]\n",
    "    for x in range(min(starts),e+1):\n",
    "        cnt=0\n",
    "        for y in range(1,x+1):\n",
    "            if li[x]%y==0:\n",
    "                cnt+=1\n",
    "        li[x]=cnt\n",
    "    ant=[]\n",
    "    for x in starts:\n",
    "        m=max(li[x:e+1])\n",
    "        answer=[]\n",
    "        for y in range(x,e+1):\n",
    "            if li[y]==m:\n",
    "                answer.append(y)\n",
    "        ant.append(answer[0])\n",
    "    return ant"
   ]
  },
  {
   "cell_type": "markdown",
   "id": "07548233",
   "metadata": {},
   "source": [
    "약수를 구하는 알고리즘에서 시간초과가 뜬다."
   ]
  },
  {
   "cell_type": "code",
   "execution_count": 5,
   "id": "25313bfa",
   "metadata": {},
   "outputs": [],
   "source": [
    "#정확도 80. 최댓값 구하는 부분에서 시간초과.\n",
    "def solution(e,starts):\n",
    "    data=[1]*(e+1)\n",
    "    for i in range(2,e+1):\n",
    "        for j in range(i,e+1,i):\n",
    "            data[j]+=1  #약수구하는 가장 쉬운 방법. 2,4,6,8 더해주기.3,6,9 도\n",
    "    ant=[]\n",
    "    for x in starts:\n",
    "        m=max(data[x:e+1])\n",
    "        answer=[]\n",
    "        for y in range(x,e+1):\n",
    "            if data[y]==m:\n",
    "                answer.append(y)\n",
    "        ant.append(answer[0])\n",
    "    return ant"
   ]
  },
  {
   "cell_type": "code",
   "execution_count": 6,
   "id": "cb97045c",
   "metadata": {},
   "outputs": [],
   "source": [
    "def solution(e,starts):\n",
    "    data=[1]*(e+1)\n",
    "    for i in range(2,e+1):\n",
    "        for j in range(i,e+1,i):\n",
    "            data[j]+=1\n",
    "    arr=[0 for _ in range(e+1)]\n",
    "    max_val=data[-1]\n",
    "    idx=len(data)-1\n",
    "    answer=[]\n",
    "    for i in range(len(data)-1,0,-1):\n",
    "        if data[i]>=max_val:\n",
    "            idx=i\n",
    "            max_val=data[i]\n",
    "        arr[i]=idx #각 i에 대한 빈도수가 가장 높은 값\n",
    "    for start in starts:\n",
    "        answer.append(arr[start])\n",
    "    return answer"
   ]
  },
  {
   "cell_type": "markdown",
   "id": "014a4709",
   "metadata": {},
   "source": [
    "이것도 정확도 90인디..?\n",
    "테스트 10에서 시간초과.\n"
   ]
  },
  {
   "cell_type": "code",
   "execution_count": 3,
   "id": "5242a58e",
   "metadata": {},
   "outputs": [
    {
     "data": {
      "text/plain": [
       "'14'"
      ]
     },
     "execution_count": 3,
     "metadata": {},
     "output_type": "execute_result"
    }
   ],
   "source": [
    "def solution(n):\n",
    "    li=[0,1,2,4]\n",
    "    if n>=4:\n",
    "        for x in range(4,n+1):\n",
    "            if x%3==0:\n",
    "                li.append(str(li[x//3-1])+str(li[3]))\n",
    "            else:\n",
    "                li.append(str(li[x//3])+str(li[x%3]))\n",
    "        \n",
    "    return li[n]\n",
    "solution(6)"
   ]
  },
  {
   "cell_type": "markdown",
   "id": "c78895ee",
   "metadata": {},
   "source": [
    "->정확성은 70나오나 시간초과로 효율성이 빵점 나옴."
   ]
  },
  {
   "cell_type": "code",
   "execution_count": 5,
   "id": "89bee705",
   "metadata": {},
   "outputs": [],
   "source": [
    "def solution(n):\n",
    "    if n<=3:\n",
    "        return \"124\"[n-1]\n",
    "    else:\n",
    "        q,r=divmod(n-1,3)\n",
    "    return solution(q)+\"124\"[r]"
   ]
  },
  {
   "cell_type": "markdown",
   "id": "1fa8ffd3",
   "metadata": {},
   "source": [
    "재귀함수를 쓰는 간단한 문제."
   ]
  },
  {
   "cell_type": "markdown",
   "id": "91d4370e",
   "metadata": {},
   "source": [
    "# JadenCase문자열 만들기"
   ]
  },
  {
   "cell_type": "code",
   "execution_count": 11,
   "id": "d97e6a85",
   "metadata": {},
   "outputs": [
    {
     "ename": "TypeError",
     "evalue": "'str' object does not support item assignment",
     "output_type": "error",
     "traceback": [
      "\u001b[1;31m---------------------------------------------------------------------------\u001b[0m",
      "\u001b[1;31mTypeError\u001b[0m                                 Traceback (most recent call last)",
      "\u001b[1;32m<ipython-input-11-de2986e0ec3a>\u001b[0m in \u001b[0;36m<module>\u001b[1;34m\u001b[0m\n\u001b[0;32m      5\u001b[0m     \u001b[1;32mfor\u001b[0m \u001b[0mi\u001b[0m \u001b[1;32min\u001b[0m \u001b[0mrange\u001b[0m\u001b[1;33m(\u001b[0m\u001b[0mlen\u001b[0m\u001b[1;33m(\u001b[0m\u001b[0mx\u001b[0m\u001b[1;33m)\u001b[0m\u001b[1;33m)\u001b[0m\u001b[1;33m:\u001b[0m\u001b[1;33m\u001b[0m\u001b[1;33m\u001b[0m\u001b[0m\n\u001b[0;32m      6\u001b[0m         \u001b[1;32mif\u001b[0m \u001b[0mi\u001b[0m\u001b[1;33m==\u001b[0m\u001b[1;36m0\u001b[0m\u001b[1;33m:\u001b[0m\u001b[1;33m\u001b[0m\u001b[1;33m\u001b[0m\u001b[0m\n\u001b[1;32m----> 7\u001b[1;33m             \u001b[0mx\u001b[0m\u001b[1;33m[\u001b[0m\u001b[0mi\u001b[0m\u001b[1;33m]\u001b[0m\u001b[1;33m=\u001b[0m\u001b[0mx\u001b[0m\u001b[1;33m[\u001b[0m\u001b[0mi\u001b[0m\u001b[1;33m]\u001b[0m\u001b[1;33m.\u001b[0m\u001b[0mupper\u001b[0m\u001b[1;33m(\u001b[0m\u001b[1;33m)\u001b[0m\u001b[1;33m\u001b[0m\u001b[1;33m\u001b[0m\u001b[0m\n\u001b[0m\u001b[0;32m      8\u001b[0m \u001b[0manswer\u001b[0m\u001b[1;33m\u001b[0m\u001b[1;33m\u001b[0m\u001b[0m\n",
      "\u001b[1;31mTypeError\u001b[0m: 'str' object does not support item assignment"
     ]
    }
   ],
   "source": [
    "def solution(s):\n",
    "    cnt=''\n",
    "    answer=s.split(\" \")\n",
    "    for j in range(len(answer)):\n",
    "        for i in range(len(answer[j])):\n",
    "            if i==0:\n",
    "                cnt+=answer[j][i].upper()\n",
    "            else:\n",
    "                cnt+=answer[j][i].lower()\n",
    "        if j<len(answer)-1:\n",
    "            cnt+=\" \"\n",
    "    return cnt"
   ]
  },
  {
   "cell_type": "markdown",
   "id": "4876dbf4",
   "metadata": {},
   "source": [
    "# 스택 큐(다리를 지나는 트럭)"
   ]
  },
  {
   "cell_type": "code",
   "execution_count": null,
   "id": "76092163",
   "metadata": {},
   "outputs": [],
   "source": [
    "#정답1.\n",
    "\n",
    "def solution(bridge_length, weight, truck_weights):    \n",
    "    answer = 0\n",
    "    bridge = [0]*bridge_length\n",
    "\n",
    "    while True :\n",
    "        if len(truck_weights) == 0 and sum(bridge) == 0:\n",
    "            break\n",
    "\n",
    "        answer += 1\n",
    "        bridge.pop(0)\n",
    "        nextNum = 0\n",
    "\n",
    "        if truck_weights: \n",
    "            if sum(bridge) + truck_weights[0] <= weight:\n",
    "                nextNum = truck_weights[0]\n",
    "                truck_weights.pop(0)\n",
    "        bridge.append(nextNum)\n",
    "\n",
    "    return answer"
   ]
  },
  {
   "cell_type": "code",
   "execution_count": null,
   "id": "87a7e957",
   "metadata": {},
   "outputs": [],
   "source": [
    "from collections import deque\n",
    "\n",
    "def solution(bridge_length, weight, truck_weights):\n",
    "  bridge = deque([0]*bridge_length)\n",
    "  total_weight = 0\n",
    "  sec = 0\n",
    "  truck_weights.reverse() \n",
    "\n",
    "  while truck_weights:\n",
    "    total_weight -= bridge.popleft()\n",
    "    sec +=1\n",
    "    if total_weight + truck_weights[-1] > weight:\n",
    "      bridge.append(0)\n",
    "    else:\n",
    "      truck = truck_weights.pop()\n",
    "      bridge.append(truck)\n",
    "      total_weight += truck\n",
    "  \n",
    "  sec +=bridge_length\n",
    "\n",
    "  return sec"
   ]
  },
  {
   "cell_type": "markdown",
   "id": "33bc0662",
   "metadata": {},
   "source": [
    "# 행렬의 곱셈"
   ]
  },
  {
   "cell_type": "code",
   "execution_count": 1,
   "id": "4ee82261",
   "metadata": {},
   "outputs": [],
   "source": [
    "import numpy as np\n",
    "def solution(arr1, arr2):\n",
    "    answer = [[]]\n",
    "    return (np.matrix(arr1)*np.matrix(arr2)).tolist()"
   ]
  },
  {
   "cell_type": "code",
   "execution_count": 2,
   "id": "678a83a8",
   "metadata": {},
   "outputs": [],
   "source": [
    "def solution(arr1, arr2):\n",
    "    a=len(arr1)\n",
    "    b=len(arr2[0])\n",
    "    answer=[]\n",
    "    for i in range(a):\n",
    "        cnt=[]\n",
    "        for j in range(b):\n",
    "            n=0\n",
    "            for z in range(len(arr1[0])):\n",
    "                n+=arr1[i][z]*arr2[z][j]\n",
    "            cnt.append(n)\n",
    "        answer.append(cnt)\n",
    "    return answer"
   ]
  },
  {
   "cell_type": "code",
   "execution_count": null,
   "id": "4cc841ee",
   "metadata": {},
   "outputs": [],
   "source": []
  },
  {
   "cell_type": "code",
   "execution_count": null,
   "id": "b0084e65",
   "metadata": {},
   "outputs": [],
   "source": []
  },
  {
   "cell_type": "code",
   "execution_count": null,
   "id": "6477b4ba",
   "metadata": {},
   "outputs": [],
   "source": []
  },
  {
   "cell_type": "code",
   "execution_count": null,
   "id": "59dadf27",
   "metadata": {},
   "outputs": [],
   "source": []
  }
 ],
 "metadata": {
  "kernelspec": {
   "display_name": "Python 3",
   "language": "python",
   "name": "python3"
  },
  "language_info": {
   "codemirror_mode": {
    "name": "ipython",
    "version": 3
   },
   "file_extension": ".py",
   "mimetype": "text/x-python",
   "name": "python",
   "nbconvert_exporter": "python",
   "pygments_lexer": "ipython3",
   "version": "3.8.8"
  }
 },
 "nbformat": 4,
 "nbformat_minor": 5
}
