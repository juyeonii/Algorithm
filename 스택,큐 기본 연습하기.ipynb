{
 "cells": [
  {
   "cell_type": "markdown",
   "id": "9dbb5273",
   "metadata": {},
   "source": [
    "# 스택 구현하기\n",
    "-선입후출(POP함수 사용)"
   ]
  },
  {
   "cell_type": "code",
   "execution_count": 7,
   "id": "051467a9",
   "metadata": {},
   "outputs": [
    {
     "name": "stdout",
     "output_type": "stream",
     "text": [
      "1\n",
      "1 -2 3 4 -5\n",
      "1 4\n"
     ]
    }
   ],
   "source": [
    "for _ in range(int(input())):\n",
    "    stack=[]\n",
    "    ans=[]\n",
    "    qry=list(map(int,input().split()))\n",
    "    for q in qry:\n",
    "        if q>0:\n",
    "            stack.append(q)\n",
    "        else:\n",
    "            ans.append(stack.pop())\n",
    "    print(*ans)"
   ]
  },
  {
   "cell_type": "markdown",
   "id": "5e889a0f",
   "metadata": {},
   "source": [
    "*을 붙이면 값을 가져오는 듯..?리스트 형태가 아니라"
   ]
  },
  {
   "cell_type": "markdown",
   "id": "99bdb334",
   "metadata": {},
   "source": [
    "# 큐 구현하기\n",
    "선입선출\\\n",
    "deque:double-ended queue의 약자(양방향에서 데이터 추가/제거 가능)"
   ]
  },
  {
   "cell_type": "code",
   "execution_count": 9,
   "id": "9a58376e",
   "metadata": {},
   "outputs": [
    {
     "name": "stdout",
     "output_type": "stream",
     "text": [
      "1\n",
      "1 -2 3 4 -5\n",
      "1 3\n"
     ]
    }
   ],
   "source": [
    "from collections import deque\n",
    "for _ in range(int(input())):\n",
    "    queue=deque([])\n",
    "    ans=[]\n",
    "    qry=list(map(int,input().split()))\n",
    "    for q in qry:\n",
    "        if q>0:\n",
    "            queue.append(q)\n",
    "        else:\n",
    "            ans.append(queue.popleft())\n",
    "    print(*ans)"
   ]
  },
  {
   "cell_type": "markdown",
   "id": "b78e9a45",
   "metadata": {},
   "source": [
    "# 우선순위 큐\n",
    "-heapq를 사용(일반적으로 숫자가 작을수록 우선순위가 높다)"
   ]
  },
  {
   "cell_type": "code",
   "execution_count": 13,
   "id": "03592ca7",
   "metadata": {
    "scrolled": true
   },
   "outputs": [
    {
     "name": "stdout",
     "output_type": "stream",
     "text": [
      "1\n",
      "1 -2 3 4 -5\n",
      "1 3\n"
     ]
    }
   ],
   "source": [
    "import heapq\n",
    "\n",
    "for _ in range(int(input())):\n",
    "    hq=[]\n",
    "    ans=[]\n",
    "    qry=list(map(int,input().split()))\n",
    "    for q in qry:\n",
    "        if q>0:\n",
    "            heapq.heappush(hq,q)\n",
    "        else:\n",
    "            ans.append(heapq.heappop(hq))\n",
    "    print(*ans)"
   ]
  },
  {
   "cell_type": "markdown",
   "id": "28566fb7",
   "metadata": {},
   "source": [
    "# 백준 1. 스택"
   ]
  },
  {
   "cell_type": "code",
   "execution_count": 35,
   "id": "7fc66c97",
   "metadata": {},
   "outputs": [
    {
     "name": "stdout",
     "output_type": "stream",
     "text": [
      "14\n",
      "push 1\n",
      "push 2\n",
      "top\n",
      "2\n",
      "size\n",
      "2\n",
      "empty\n",
      "0\n",
      "pop\n",
      "2\n",
      "pop\n",
      "1\n",
      "pop\n",
      "-1\n",
      "size\n",
      "0\n",
      "empty\n",
      "1\n",
      "pop\n",
      "-1\n",
      "push 3\n",
      "empty\n",
      "0\n",
      "top\n",
      "3\n"
     ]
    }
   ],
   "source": [
    "stack=[]\n",
    "def push(x):\n",
    "    stack.append(x)\n",
    "\n",
    "def pop():\n",
    "    if stack==[]: #len(stack)==0 때도 가능하다. \n",
    "        print(-1)\n",
    "    else:print(stack.pop())\n",
    "\n",
    "def size():\n",
    "    print(len(stack))\n",
    "\n",
    "def empty():\n",
    "    if len(stack)==0:\n",
    "        print(1)\n",
    "    else: print(0)\n",
    "\n",
    "def top():\n",
    "    if stack==[]:\n",
    "        print(-1)\n",
    "    else: print(stack[-1])\n",
    "\n",
    "for _ in range(int(input())):\n",
    "    command=list(input().split())\n",
    "    if command[0]==\"push\":\n",
    "        push(command[1])\n",
    "    elif command[0]==\"top\":\n",
    "        top()\n",
    "    elif command[0]==\"size\":\n",
    "        size()\n",
    "    elif command[0]==\"pop\":\n",
    "        pop()\n",
    "    elif command[0]==\"empty\":\n",
    "        empty()"
   ]
  },
  {
   "cell_type": "markdown",
   "id": "0a9d2637",
   "metadata": {},
   "source": [
    "1.백준에 제출할 땐 import sys 하기.. \\\n",
    "2. command 받을 때, input을 리스트로 받는 방법 기억하기.\\\n",
    "3. return으로 반환하면 밑에서 print(함수) 이렇게 써야함"
   ]
  },
  {
   "cell_type": "markdown",
   "id": "a4313338",
   "metadata": {},
   "source": [
    "# 제로"
   ]
  },
  {
   "cell_type": "code",
   "execution_count": 37,
   "id": "339a3708",
   "metadata": {},
   "outputs": [
    {
     "name": "stdout",
     "output_type": "stream",
     "text": [
      "10\n",
      "1\n",
      "3\n",
      "5\n",
      "4\n",
      "0\n",
      "0\n",
      "7\n",
      "0\n",
      "0\n",
      "6\n",
      "7\n"
     ]
    }
   ],
   "source": [
    "stack=[]\n",
    "for _ in range(int(input())):\n",
    "    N=int(input())\n",
    "    if N==0:\n",
    "        stack.pop()\n",
    "    else:stack.append(N)\n",
    "print(sum(stack))"
   ]
  },
  {
   "cell_type": "markdown",
   "id": "f30b855f",
   "metadata": {},
   "source": [
    "# 괄호 ()"
   ]
  },
  {
   "cell_type": "code",
   "execution_count": 62,
   "id": "9c14a9a4",
   "metadata": {},
   "outputs": [
    {
     "name": "stdout",
     "output_type": "stream",
     "text": [
      "1\n",
      "(()())((()))\n",
      "YES\n"
     ]
    }
   ],
   "source": [
    "n=int(input())\n",
    "\n",
    "for i in range(n):\n",
    "    s=input() #list로 받아도 됨. \n",
    "    stack=[]\n",
    "    for x in s:\n",
    "        if x==\"(\":\n",
    "            stack.append(x)\n",
    "        else:\n",
    "            if len(stack)==0:\n",
    "                stack.append(x)\n",
    "            elif stack[-1]==\"(\":\n",
    "                stack.pop()\n",
    "    if len(stack)==0:\n",
    "        print(\"YES\")\n",
    "    else: \n",
    "        print(\"NO\")"
   ]
  },
  {
   "cell_type": "markdown",
   "id": "2eccef63",
   "metadata": {},
   "source": [
    "# 균형잡힌 세상"
   ]
  },
  {
   "cell_type": "code",
   "execution_count": 84,
   "id": "18fc234f",
   "metadata": {
    "scrolled": true
   },
   "outputs": [
    {
     "name": "stdout",
     "output_type": "stream",
     "text": [
      "So when I die (the [first] I will see in (heaven) is a score list).\n",
      "yes\n",
      ".\n"
     ]
    }
   ],
   "source": [
    "while True:\n",
    "    s=input()\n",
    "    stack=[]\n",
    "    if s==\".\":\n",
    "        break\n",
    "        \n",
    "    for x in s:\n",
    "        if x==\"(\" or x==\"[\":\n",
    "            stack.append(x)\n",
    "            \n",
    "        elif x==\")\":\n",
    "            if  len(stack)>=1 and stack[-1]==\"(\":\n",
    "                stack.pop()\n",
    "            else:\n",
    "                stack.append(x)\n",
    "                \n",
    "        elif x==\"]\":\n",
    "            if len(stack)>=1 and stack[-1]==\"[\":\n",
    "                stack.pop()\n",
    "            else:\n",
    "                stack.append(x)\n",
    "                \n",
    "    if len(stack)==0:\n",
    "        print(\"yes\")\n",
    "    else: print(\"no\")"
   ]
  },
  {
   "cell_type": "markdown",
   "id": "6246e558",
   "metadata": {},
   "source": [
    "자꾸 오류가 나서 이 조건 두개의 순서를 변경하였더니 len(stack)>=1 and stack[-1]==\"(\" 잘 작동하였음. 이유는 모르겠어 "
   ]
  },
  {
   "cell_type": "markdown",
   "id": "859695fa",
   "metadata": {},
   "source": [
    "# 스택 수열"
   ]
  },
  {
   "cell_type": "code",
   "execution_count": null,
   "id": "ff40aa02",
   "metadata": {},
   "outputs": [],
   "source": [
    "n=int(input())\n",
    "stack=[] \n",
    "ans=[] # \"+\"와 \"-\"로 구성된 리스트\n",
    "cnt=1\n",
    "temp=True\n",
    "\n",
    "for i in range(n):\n",
    "    x=int(input())\n",
    "    while cnt<=x:\n",
    "        stack.append(cnt)\n",
    "        ans.append(\"+\")\n",
    "        cnt+=1\n",
    "    if stack[-1]==x:\n",
    "        ans.append(\"-\")\n",
    "        stack.pop()\n",
    "    else:\n",
    "        temp=False\n",
    "\n",
    "if temp==False:\n",
    "    print(\"NO\")\n",
    "else:\n",
    "    for x in ans:\n",
    "        print(x)"
   ]
  }
 ],
 "metadata": {
  "kernelspec": {
   "display_name": "Python 3",
   "language": "python",
   "name": "python3"
  },
  "language_info": {
   "codemirror_mode": {
    "name": "ipython",
    "version": 3
   },
   "file_extension": ".py",
   "mimetype": "text/x-python",
   "name": "python",
   "nbconvert_exporter": "python",
   "pygments_lexer": "ipython3",
   "version": "3.8.8"
  }
 },
 "nbformat": 4,
 "nbformat_minor": 5
}
