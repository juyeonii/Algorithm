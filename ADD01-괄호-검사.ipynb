{
 "cells": [
  {
   "cell_type": "code",
   "execution_count": 1,
   "id": "84694853",
   "metadata": {},
   "outputs": [
    {
     "name": "stdout",
     "output_type": "stream",
     "text": [
      "1\n",
      "()()\n",
      "YES\n"
     ]
    }
   ],
   "source": [
    "idx = 0\n",
    "\n",
    "for _ in range(int(input())) :\n",
    "    lst = list(input())            # ()()                 # ({[}])\n",
    "\n",
    "    a = lst[idx]                   # (                    # \n",
    "    b = lst[idx+1]                 # )\n",
    "    \n",
    "    if a == '(' and b == ')' :   # a = '(', b = ')'\n",
    "        print('YES')\n",
    "    elif a == '{' and b == '}' :\n",
    "        print('YES')\n",
    "    elif a == '[' and b == ']' :\n",
    "        print('YES')\n",
    "    else :\n",
    "        print('NO')\n",
    "        \n",
    "    idx += 2                       # idx = 2"
   ]
  },
  {
   "cell_type": "code",
   "execution_count": null,
   "id": "8070f841",
   "metadata": {},
   "outputs": [
    {
     "name": "stdout",
     "output_type": "stream",
     "text": [
      "5\n",
      "()()\n",
      "(\n",
      "(\n"
     ]
    }
   ],
   "source": [
    "t = int(input())\n",
    "\n",
    "for _ in range(t) :\n",
    "    bracket = input()\n",
    "    stk = []\n",
    "    correct = True\n",
    "    \n",
    "    for b in bracket :\n",
    "        if (b == '(') or (b == '{') or (b == '[') :\n",
    "             stk.append(b)\n",
    "        elif (b == ')') or (b == '}') or (b == ']'):\n",
    "            stk.pop()\n",
    "\n",
    "\n",
    "    for b in bracket :\n",
    "        if b == '(' :\n",
    "            stk.append(b)\n",
    "            \n",
    "        else :\n",
    "            if \n",
    "            \n",
    "            \n",
    "            \n",
    "            \n",
    "#     if stk == [] :\n",
    "#         print('YES')\n",
    "#     else :\n",
    "#         print('NO')\n",
    "            \n",
    "#     print(stk)\n",
    "            \n",
    "            \n",
    "#         elif :\n",
    "#         elif :\n",
    "        \n",
    "#     if :\n",
    "#         correct = True\n",
    "    \n",
    "#     if :\n",
    "#         print('YES')\n",
    "#     else :\n",
    "#         print('NO')\n",
    "        "
   ]
  },
  {
   "cell_type": "code",
   "execution_count": null,
   "id": "ccf13cc2",
   "metadata": {},
   "outputs": [],
   "source": []
  },
  {
   "cell_type": "code",
   "execution_count": null,
   "id": "4c09f62b",
   "metadata": {},
   "outputs": [],
   "source": []
  },
  {
   "cell_type": "code",
   "execution_count": null,
   "id": "b574874e",
   "metadata": {},
   "outputs": [],
   "source": []
  },
  {
   "cell_type": "code",
   "execution_count": null,
   "id": "867a113c",
   "metadata": {},
   "outputs": [],
   "source": []
  },
  {
   "cell_type": "code",
   "execution_count": null,
   "id": "eb59a70e",
   "metadata": {},
   "outputs": [],
   "source": []
  },
  {
   "cell_type": "code",
   "execution_count": null,
   "id": "c92b2ef7",
   "metadata": {},
   "outputs": [],
   "source": []
  },
  {
   "cell_type": "code",
   "execution_count": null,
   "id": "ffc3b594",
   "metadata": {},
   "outputs": [],
   "source": []
  },
  {
   "cell_type": "code",
   "execution_count": null,
   "id": "2468b804",
   "metadata": {},
   "outputs": [],
   "source": []
  },
  {
   "cell_type": "code",
   "execution_count": null,
   "id": "ec004bed",
   "metadata": {},
   "outputs": [],
   "source": []
  }
 ],
 "metadata": {
  "kernelspec": {
   "display_name": "Python 3",
   "language": "python",
   "name": "python3"
  },
  "language_info": {
   "codemirror_mode": {
    "name": "ipython",
    "version": 3
   },
   "file_extension": ".py",
   "mimetype": "text/x-python",
   "name": "python",
   "nbconvert_exporter": "python",
   "pygments_lexer": "ipython3",
   "version": "3.8.8"
  }
 },
 "nbformat": 4,
 "nbformat_minor": 5
}
