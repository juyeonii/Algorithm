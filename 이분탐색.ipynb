{
 "cells": [
  {
   "cell_type": "markdown",
   "id": "48d84227",
   "metadata": {},
   "source": [
    "# 수 찾기"
   ]
  },
  {
   "cell_type": "code",
   "execution_count": 4,
   "id": "44b38807",
   "metadata": {},
   "outputs": [
    {
     "name": "stdout",
     "output_type": "stream",
     "text": [
      "5\n",
      "4 1 5 2 3\n",
      "5\n",
      "1 3 7 9 5\n",
      "1\n",
      "1\n",
      "0\n",
      "0\n",
      "1\n"
     ]
    }
   ],
   "source": [
    "N=int(input())\n",
    "arr=list(map(int,input().split()))\n",
    "\n",
    "M=int(input())\n",
    "arr2=list(map(int,input().split()))\n",
    "\n",
    "for x in arr2:\n",
    "    if x not in arr:\n",
    "        print(\"0\")\n",
    "    else:\n",
    "        print(\"1\")"
   ]
  },
  {
   "cell_type": "markdown",
   "id": "4283897b",
   "metadata": {},
   "source": [
    "이분탐색을 사용하지 않아서 시간 초과가 뜬다.O(N)시간 걸림"
   ]
  },
  {
   "cell_type": "code",
   "execution_count": 10,
   "id": "1307727a",
   "metadata": {
    "scrolled": false
   },
   "outputs": [
    {
     "name": "stdout",
     "output_type": "stream",
     "text": [
      "5\n",
      "4 1 5 2 3\n",
      "5\n",
      "1 3 7 9 5\n",
      "1\n",
      "1\n",
      "0\n",
      "0\n",
      "1\n"
     ]
    }
   ],
   "source": [
    "#이분탐색 사용\n",
    "N=int(input())\n",
    "arr=list(map(int,input().split()))\n",
    "arr=sorted(arr)\n",
    "\n",
    "M=int(input())\n",
    "arr2=list(map(int,input().split()))\n",
    "mid=N//2\n",
    "for x in arr2:\n",
    "    l,r=0,N-1\n",
    "    while l<=r:\n",
    "        mid=(l+r)//2\n",
    "        if x==arr[mid]:\n",
    "            print(\"1\")\n",
    "            break    \n",
    "        elif x<arr[mid]:\n",
    "            r=mid-1\n",
    "        elif x>arr[mid]:\n",
    "            l=mid+1\n",
    "    else:print(\"0\")"
   ]
  },
  {
   "cell_type": "code",
   "execution_count": null,
   "id": "ae76c5ab",
   "metadata": {},
   "outputs": [],
   "source": []
  },
  {
   "cell_type": "code",
   "execution_count": null,
   "id": "2c750376",
   "metadata": {},
   "outputs": [],
   "source": []
  }
 ],
 "metadata": {
  "kernelspec": {
   "display_name": "Python 3",
   "language": "python",
   "name": "python3"
  },
  "language_info": {
   "codemirror_mode": {
    "name": "ipython",
    "version": 3
   },
   "file_extension": ".py",
   "mimetype": "text/x-python",
   "name": "python",
   "nbconvert_exporter": "python",
   "pygments_lexer": "ipython3",
   "version": "3.8.8"
  }
 },
 "nbformat": 4,
 "nbformat_minor": 5
}
