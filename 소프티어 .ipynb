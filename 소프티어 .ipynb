{
 "cells": [
  {
   "cell_type": "markdown",
   "id": "9e7508da",
   "metadata": {},
   "source": [
    "# 레벨2 금고 털이"
   ]
  },
  {
   "cell_type": "markdown",
   "id": "11dc1187",
   "metadata": {},
   "source": [
    "루팡은 배낭을 하나 메고 은행금고에 들어왔다. 금고 안에는 값비싼 금, 은, 백금 등의 귀금속 덩어리가 잔뜩 들어있다. 배낭은 W ㎏까지 담을 수 있다.\n",
    "\n",
    "각 금속의 무게와 무게당 가격이 주어졌을 때 배낭을 채울 수 있는 가장 값비싼 가격은 얼마인가?\n",
    "\n",
    "루팡은 전동톱을 가지고 있으며 귀금속은 톱으로 자르면 잘려진 부분의 무게만큼 가치를 가진다.\n",
    "\n",
    "입력형식:첫 번째 줄에 배낭의 무게 W와 귀금속의 종류 N이 주어진다. i + 1 (1 ≤ i ≤ N)번째 줄에는 i번째 금속의 무게 Mi와 무게당 가격 Pi가 주어진다.\\\n",
    "100 2\\\n",
    "90 1\\\n",
    "70 2\n",
    "\n",
    "출력형식:첫 번째 줄에 배낭에 담을 수 있는 가장 비싼 가격을 출력하라.\\\n",
    "170"
   ]
  },
  {
   "cell_type": "code",
   "execution_count": 9,
   "id": "927411cc",
   "metadata": {},
   "outputs": [
    {
     "name": "stdout",
     "output_type": "stream",
     "text": [
      "100 3\n",
      "60 3\n",
      "70 2\n",
      "90 1\n"
     ]
    },
    {
     "data": {
      "text/plain": [
       "260"
      ]
     },
     "execution_count": 9,
     "metadata": {},
     "output_type": "execute_result"
    }
   ],
   "source": [
    "W,M=map(int,input().split())\n",
    "graph=[]\n",
    "for _ in range(M):\n",
    "    graph.append(list(map(int,input().split())))\n",
    "graph.sort(key=lambda x:x[1],reverse=True)\n",
    "answer=0\n",
    "while 0<W:\n",
    "    for x in graph:\n",
    "        if x[0]<=W:\n",
    "            answer+=x[0]*x[1]\n",
    "            W=W-x[0]\n",
    "        else:\n",
    "            answer+=W*x[1]\n",
    "            W=0\n",
    "answer"
   ]
  },
  {
   "cell_type": "markdown",
   "id": "1a84cd69",
   "metadata": {},
   "source": [
    " # 레벨2 [21년도 재직자 대회 예선]대표 메뉴"
   ]
  },
  {
   "cell_type": "markdown",
   "id": "cda41c19",
   "metadata": {},
   "source": [
    "입력형식\\\n",
    "첫째 줄에 M, N, K가 공백을 사이에 두고 주어진다.\n",
    "\n",
    "둘째 줄에 비밀 메뉴 조작법을 나타내는 M개의 정수가 공백을 사이에 두고 주어진다. 각 정수는 1 이상 K 이하이다.\n",
    "\n",
    "셋째 줄에 사용자의 버튼 조작을 나타내는 N개의 정수가 공백을 사이에 두고 주어진다. 각 정수는 1 이상 K 이하이다.\n",
    "\n",
    "3 10 5\\\n",
    "1 4 5\\\n",
    "3 3 1 2 4 1 4 5 1 4\n",
    "\n",
    "출력형식\\\n",
    "사용자가 비밀 메뉴 식권을 받을 수 있다면 secret을, 그렇지 않다면 normal을 첫째 줄에 출력한다.\n",
    "secret"
   ]
  },
  {
   "cell_type": "markdown",
   "id": "8a844562",
   "metadata": {},
   "source": [
    "# 레벨2 GBC"
   ]
  },
  {
   "cell_type": "code",
   "execution_count": 4,
   "id": "fba6caa8",
   "metadata": {},
   "outputs": [
    {
     "name": "stdout",
     "output_type": "stream",
     "text": [
      "3 3\n",
      "50 50\n",
      "40 40\n",
      "10 30\n",
      "60 76\n",
      "18 28\n",
      "22 50\n",
      "36\n"
     ]
    }
   ],
   "source": [
    "N,M=map(int,input().split())\n",
    "limit,test=[],[]\n",
    "for _ in range(N):\n",
    "    limit.append(list(map(int,input().split())))\n",
    "for _ in range(M):\n",
    "    test.append(list(map(int,input().split())))\n",
    "chi=[]\n",
    "a=0\n",
    "for i in range(N-1):\n",
    "    a=test[i][0]-limit[i][0]\n",
    "    if a>0:\n",
    "        chi.append(test[i][1]-limit[i][1])\n",
    "        chi.append(test[i][1]-limit[i+1][1])\n",
    "    else:\n",
    "        chi.append(test[i][1]-limit[i][1])\n",
    "chi.append(test[-1][1]-limit[-1][1])\n",
    "print(max(chi))"
   ]
  },
  {
   "cell_type": "markdown",
   "id": "16fa96db",
   "metadata": {},
   "source": [
    "ㅠㅠㅠ구간에서 오류가 뜨는지 실패하였다."
   ]
  },
  {
   "cell_type": "code",
   "execution_count": null,
   "id": "4e645d30",
   "metadata": {},
   "outputs": [],
   "source": [
    "N,M=map(int,input().split())\n",
    "limit,test=[],[]\n",
    "for _ in range(N):\n",
    "    limit.append(list(map(int,input().split())))\n",
    "for _ in range(M):\n",
    "    test.append(list(map(int,input().split())))\n",
    "chi=[]\n",
    "while True:\n",
    "    if limit == [] or test == []:\n",
    "        break\n",
    " \n",
    "    diff=test[0][0]-limit[0][0]\n",
    " \n",
    "    if diff > 0:\n",
    "        chi.append(test[0][1] - limit[0][1]) \n",
    "        limit.pop(0) \n",
    "        test[0][0] =diff \n",
    "        \n",
    "    elif diff < 0:\n",
    "        chi.append(test[0][1] - limit[0][1])\n",
    "        test.pop(0)\n",
    "        limit[0][0] = -diff \n",
    "        \n",
    "    else: \n",
    "        chi.append(test[0][1] - limit[0][1]) \n",
    "        test.pop(0)\n",
    "        limit.pop(0)\n",
    "if max(chi)>0:print(max(chi))\n",
    "else:print(0)"
   ]
  },
  {
   "cell_type": "markdown",
   "id": "9031f97e",
   "metadata": {},
   "source": [
    "답지 도움을..받음.."
   ]
  },
  {
   "cell_type": "markdown",
   "id": "ce6bf2a3",
   "metadata": {},
   "source": [
    "# 레벨3 플레이페어 암호"
   ]
  },
  {
   "cell_type": "code",
   "execution_count": 40,
   "id": "ba356d0c",
   "metadata": {},
   "outputs": [
    {
     "data": {
      "text/plain": [
       "deque(['H', 'Y', 'P', 'C', 'R', 'F', 'E', 'A', 'I', 'L', 'K'])"
      ]
     },
     "execution_count": 40,
     "metadata": {},
     "output_type": "execute_result"
    }
   ],
   "source": [
    "#작업1단계-표 만들어주기\n",
    "from collections import deque\n",
    "table=[[0]*5  for _ in range(5)]\n",
    "alpha=\"ABCDEFGHIKLMNOPQRSTUVWXYZ\" #제외\n",
    "a=\"PLAYFAIRCIPHERKEY\"\n",
    "a=deque(set(a))\n",
    "a"
   ]
  },
  {
   "cell_type": "markdown",
   "id": "7b537ee7",
   "metadata": {},
   "source": [
    "# 장애물 인식 프로그램"
   ]
  },
  {
   "attachments": {
    "image.png": {
     "image/png": "[encoded data removed]"
    }
   },
   "cell_type": "markdown",
   "id": "5ae105d5",
   "metadata": {},
   "source": [
    "![image.png](attachment:image.png)"
   ]
  },
  {
   "cell_type": "markdown",
   "id": "59d7d982",
   "metadata": {},
   "source": [
    "입력형식\\\n",
    "입력 값의 첫 번째 줄에는 지도의 크기 N이 입력되고, 그 다음 N줄에는 각각 N개의 자료(0혹은 1)가 입력된다.\\\n",
    "7\\\n",
    "1110111\\\n",
    "0110101\\\n",
    "0110101\\\n",
    "0000100\\\n",
    "0110000\\\n",
    "0111110\\\n",
    "0110000\n",
    "\n",
    "출력형식\n",
    "첫 번째 줄에는 총 블록 수를 출력 하시오.\n",
    "\n",
    "그리고 각 블록 내 장애물의 수를 오름차순으로 정렬하여 한 줄에 하나씩 출력하시오.\\\n",
    "3\\\n",
    "7\\\n",
    "8\\\n",
    "9"
   ]
  },
  {
   "cell_type": "code",
   "execution_count": 20,
   "id": "4d0b3f7b",
   "metadata": {},
   "outputs": [
    {
     "name": "stdout",
     "output_type": "stream",
     "text": [
      "3\n",
      "7\n",
      "8\n",
      "9\n"
     ]
    }
   ],
   "source": [
    "#BFS\n",
    "\n",
    "N=7\n",
    "graph=[[1,1,1,0,1,1,1],[0,1,1,0,1,0,1],[0,1,1,0,1,0,1],[0,0,0,0,1,0,0],[0,1,1,0,0,0,0],[0,1,1,1,1,1,0],[0,1,1,0,0,0,0]]\n",
    "#for _ in range(N):\n",
    "#    graph.append(list(map(int,input().split())))\n",
    "\n",
    "from collections import deque\n",
    "dx=[0,0,1,-1]\n",
    "dy=[1,-1,0,0]\n",
    "\n",
    "\n",
    "def bfs(graph,a,b):\n",
    "    queue=deque([(a,b)])#시작점\n",
    "    graph[a][b]=0\n",
    "    count=1\n",
    "    while queue:\n",
    "        x,y=queue.popleft()\n",
    "        for i in range(4):\n",
    "            nx=x+dx[i]\n",
    "            ny=y+dy[i]\n",
    "            if nx<0 or ny<0 or nx>=N or ny>=N:\n",
    "                continue\n",
    "            if graph[nx][ny]==1:\n",
    "                graph[nx][ny]=0\n",
    "                queue.append((nx,ny))\n",
    "                count+=1\n",
    "    return count\n",
    "cnt = []\n",
    "for i in range(N):\n",
    "    for j in range(N):\n",
    "        if graph[i][j] == 1:\n",
    "            cnt.append(bfs(graph, i, j))\n",
    "cnt.sort()\n",
    "print(len(cnt))\n",
    "for i in range(len(cnt)):\n",
    "    print(cnt[i])"
   ]
  },
  {
   "cell_type": "code",
   "execution_count": 4,
   "id": "2cb9ef4e",
   "metadata": {},
   "outputs": [
    {
     "data": {
      "text/plain": [
       "9"
      ]
     },
     "execution_count": 4,
     "metadata": {},
     "output_type": "execute_result"
    }
   ],
   "source": [
    "N=7\n",
    "graph=[[1,1,1,0,1,1,1],[0,1,1,0,1,0,1],[0,1,1,0,1,0,1],[0,0,0,0,1,0,0],[0,1,1,0,0,0,0],[0,1,1,1,1,1,0],[0,1,1,0,0,0,0]]\n",
    "dx = [0, 0, 1, -1]\n",
    "dy = [1, -1, 0, 0]\n",
    "\n",
    "\n",
    "def DFS(x, y):\n",
    "    if x < 0 or x >= N or y < 0 or y >= N:\n",
    "        return False\n",
    "\n",
    "    if graph[x][y] == 1:\n",
    "        global count\n",
    "        count += 1\n",
    "        graph[x][y] = 0\n",
    "        for i in range(4):\n",
    "            nx = x + dx[i]\n",
    "            ny = y + dy[i]\n",
    "            DFS(nx, ny)\n",
    "        return True\n",
    "    return False\n",
    "count=0\n",
    "for i in range(N):\n",
    "    for j in range(N):\n",
    "        if DFS(i, j) == True:\n",
    "            num.append(count)\n",
    "            count = 0\n",
    "len(num)"
   ]
  },
  {
   "cell_type": "code",
   "execution_count": null,
   "id": "4a630d55",
   "metadata": {},
   "outputs": [],
   "source": []
  },
  {
   "cell_type": "code",
   "execution_count": null,
   "id": "43c455d3",
   "metadata": {},
   "outputs": [],
   "source": []
  },
  {
   "cell_type": "code",
   "execution_count": null,
   "id": "a2c2a0de",
   "metadata": {},
   "outputs": [],
   "source": []
  },
  {
   "cell_type": "code",
   "execution_count": null,
   "id": "c7970e59",
   "metadata": {},
   "outputs": [],
   "source": []
  },
  {
   "cell_type": "code",
   "execution_count": null,
   "id": "470a68e8",
   "metadata": {},
   "outputs": [],
   "source": []
  }
 ],
 "metadata": {
  "kernelspec": {
   "display_name": "Python 3",
   "language": "python",
   "name": "python3"
  },
  "language_info": {
   "codemirror_mode": {
    "name": "ipython",
    "version": 3
   },
   "file_extension": ".py",
   "mimetype": "text/x-python",
   "name": "python",
   "nbconvert_exporter": "python",
   "pygments_lexer": "ipython3",
   "version": "3.8.8"
  }
 },
 "nbformat": 4,
 "nbformat_minor": 5
}
