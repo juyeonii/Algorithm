{
 "cells": [
  {
   "cell_type": "markdown",
   "id": "57cf6d31",
   "metadata": {},
   "source": [
    "# 1. 큐 구현하기"
   ]
  },
  {
   "cell_type": "code",
   "execution_count": 10,
   "id": "b2c25640",
   "metadata": {},
   "outputs": [
    {
     "name": "stdout",
     "output_type": "stream",
     "text": [
      "15\n",
      "push 1\n",
      "push 2\n",
      "front\n",
      "1\n",
      "back\n",
      "2\n",
      "size\n",
      "2\n",
      "empty\n",
      "0\n",
      "pop\n",
      "1\n",
      "pop\n",
      "2\n",
      "pop\n",
      "-1\n",
      "size\n",
      "0\n",
      "empty\n",
      "1\n",
      "pop\n",
      "-1\n",
      "push 3\n",
      "empty\n",
      "0\n",
      "front\n",
      "3\n"
     ]
    }
   ],
   "source": [
    "from collections import deque\n",
    "stack=deque([])\n",
    "def pop():\n",
    "    if len(stack)==0:\n",
    "        return -1\n",
    "    else: \n",
    "        return stack.popleft()\n",
    "\n",
    "def front():\n",
    "    if len(stack)==0:\n",
    "        return -1\n",
    "    else: \n",
    "        return stack[0]\n",
    "    \n",
    "def empty():\n",
    "    if len(stack)==0:\n",
    "        return 1\n",
    "    else: return 0\n",
    "    \n",
    "def back():\n",
    "    if len(stack)==0:\n",
    "        return -1\n",
    "    else: return stack[-1]\n",
    "\n",
    "for _ in range(int(input())):\n",
    "    command=list(input().split())\n",
    "    if command[0]==\"push\":\n",
    "        stack.append(command[1])\n",
    "    elif command[0]==\"front\":\n",
    "        print(front())\n",
    "    elif command[0]==\"back\":\n",
    "        print(back())\n",
    "    elif command[0]==\"empty\":\n",
    "        print(empty())\n",
    "    elif command[0]==\"pop\":\n",
    "        print(pop())\n",
    "    elif command[0]==\"size\":\n",
    "        print(len(stack))"
   ]
  },
  {
   "cell_type": "markdown",
   "id": "ac014719",
   "metadata": {},
   "source": [
    "# 2. 카드2"
   ]
  },
  {
   "cell_type": "code",
   "execution_count": 26,
   "id": "02fdc865",
   "metadata": {},
   "outputs": [
    {
     "name": "stdout",
     "output_type": "stream",
     "text": [
      "6\n"
     ]
    },
    {
     "data": {
      "text/plain": [
       "4"
      ]
     },
     "execution_count": 26,
     "metadata": {},
     "output_type": "execute_result"
    }
   ],
   "source": [
    "from collections import deque\n",
    "queue=deque([])\n",
    "for i in range(int(input())):\n",
    "    queue.append(i+1)\n",
    "\n",
    "while len(queue)>1:\n",
    "    queue.popleft()\n",
    "    a=queue.popleft()\n",
    "    queue.append(a)\n",
    "print(queue[0])"
   ]
  },
  {
   "cell_type": "markdown",
   "id": "37b439c6",
   "metadata": {},
   "source": [
    "# 요세푸스 문제\n",
    "hint:없어진 번호의 다음 번호가 1번이 된다"
   ]
  },
  {
   "cell_type": "code",
   "execution_count": 36,
   "id": "02dfc726",
   "metadata": {},
   "outputs": [
    {
     "name": "stdout",
     "output_type": "stream",
     "text": [
      "7 3\n",
      "<3, 6, 2, 7, 5, 1, 4>\n"
     ]
    }
   ],
   "source": [
    "N,K=map(int,input().split())\n",
    "ans=[]\n",
    "from collections import deque\n",
    "queue=deque([])\n",
    "for i in range(1,N+1):\n",
    "    queue.append(i)\n",
    "while len(queue)>0:\n",
    "    for _ in range(K-1):\n",
    "        queue.append(queue.popleft())\n",
    "    ans.append(queue.popleft())\n",
    "print(\"<\",end=\"\")\n",
    "for x in ans:\n",
    "    if x==ans[-1]:\n",
    "        print(x,end=\"\")\n",
    "    else:print(x,end=\", \")\n",
    "print(\">\")"
   ]
  },
  {
   "cell_type": "markdown",
   "id": "c6e222c0",
   "metadata": {},
   "source": [
    "# 프린터 큐"
   ]
  },
  {
   "cell_type": "code",
   "execution_count": null,
   "id": "789f2863",
   "metadata": {},
   "outputs": [],
   "source": [
    "from collections import deque\n",
    "for _ in range(int(input())):\n",
    "    N,M=map(int,input().split())\n",
    "    li=deque(list(map(int,input().split())))\n",
    "    while li[M]!=maximum:\n",
    "        maximum=max(li)\n",
    "        for i in range(N):\n",
    "            li[i]\n"
   ]
  },
  {
   "cell_type": "code",
   "execution_count": 2,
   "id": "8d92ad24",
   "metadata": {},
   "outputs": [
    {
     "data": {
      "text/plain": [
       "[1, 2, 3, 4]"
      ]
     },
     "execution_count": 2,
     "metadata": {},
     "output_type": "execute_result"
    }
   ],
   "source": [
    "from collections import deque\n",
    "queue=deque([1,2,3,4])\n",
    "sorted(queue)"
   ]
  },
  {
   "cell_type": "markdown",
   "id": "bbb594cd",
   "metadata": {},
   "source": [
    "# 덱 구현하기"
   ]
  },
  {
   "cell_type": "code",
   "execution_count": 17,
   "id": "fe8df4b3",
   "metadata": {
    "scrolled": true
   },
   "outputs": [
    {
     "name": "stdout",
     "output_type": "stream",
     "text": [
      "15\n",
      "push_back 1\n",
      "push_front 2\n",
      "front\n",
      "2\n",
      "back\n",
      "1\n",
      "size\n",
      "2\n",
      "empty\n",
      "0\n",
      "pop_front \n",
      "2\n",
      "pop_back\n",
      "1\n",
      "size\n",
      "0\n",
      "pop_front\n",
      "-1\n",
      "size\n",
      "0\n",
      "empty\n",
      "1\n",
      "front\n",
      "-1\n",
      "empty\n",
      "1\n",
      "push_front 3\n"
     ]
    }
   ],
   "source": [
    "from collections import deque\n",
    "d=deque([])\n",
    "for _ in range(int(input())):\n",
    "    command=list(input().split())\n",
    "    if command[0]==\"push_front\":\n",
    "        d.appendleft(command[1])\n",
    "    elif command[0]==\"push_back\":\n",
    "        d.append(command[1])\n",
    "    elif command[0]==\"pop_front\":\n",
    "        if len(d)==0:\n",
    "            print(-1)\n",
    "        else :print(d.popleft())\n",
    "    elif command[0]==\"pop_back\":\n",
    "        if len(d)==0:\n",
    "            print(-1)\n",
    "        else:print(d.pop())\n",
    "    elif command[0]==\"size\":\n",
    "        print(len(d))\n",
    "    elif command[0]==\"empty\":\n",
    "        if len(d)==0:print(1)\n",
    "        else: print(0)\n",
    "    elif command[0]==\"front\":\n",
    "        if len(d)==0:\n",
    "            print(-1)\n",
    "        else: print(d[0])\n",
    "    elif command[0]==\"back\":\n",
    "        if len(d)==0:print(-1)\n",
    "        else: print(d[-1])"
   ]
  },
  {
   "cell_type": "markdown",
   "id": "41bcd564",
   "metadata": {},
   "source": [
    "# 회전하는 큐"
   ]
  },
  {
   "cell_type": "code",
   "execution_count": 62,
   "id": "abf3d92c",
   "metadata": {},
   "outputs": [
    {
     "name": "stdout",
     "output_type": "stream",
     "text": [
      "10 10\n",
      "1 6 3 2 7 9 8 4 10 5\n",
      "14\n"
     ]
    }
   ],
   "source": [
    "from collections import deque\n",
    "N,M=map(int,input().split())\n",
    "queue=deque([i for i in range(1,N+1)])\n",
    "li=list(map(int,input().split()))\n",
    "count=0\n",
    "while len(li)>0:\n",
    "    if li[0]==queue[0]:\n",
    "        queue.popleft()\n",
    "        li.pop(0)\n",
    "    else:\n",
    "        if queue[0]<li[0]:\n",
    "            while queue[0]!=li[0]:\n",
    "                queue.appendleft(queue.pop())\n",
    "                count+=1\n",
    "        else:\n",
    "            while queue[0]!=li[0]:\n",
    "                queue.append(queue.popleft())\n",
    "                count+=1\n",
    "print(count//2)"
   ]
  },
  {
   "cell_type": "markdown",
   "id": "bcedb7d9",
   "metadata": {},
   "source": [
    "->모르겠어요.."
   ]
  },
  {
   "cell_type": "code",
   "execution_count": 1,
   "id": "fe4ac777",
   "metadata": {},
   "outputs": [],
   "source": [
    "def solution(bridge_length, weight, truck_weights):\n",
    "    time = 0\n",
    "    q = [0] * bridge_length\n",
    "    \n",
    "    while q:\n",
    "        time += 1\n",
    "        q.pop(0)\n",
    "        if truck_weights:\n",
    "            if sum(q) + truck_weights[0] <= weight:\n",
    "                q.append(truck_weights.pop(0))\n",
    "            else:\n",
    "                q.append(0)\n",
    "    \n",
    "    return time"
   ]
  },
  {
   "cell_type": "markdown",
   "id": "595b1241",
   "metadata": {},
   "source": [
    "# 스택/큐 (프린터)"
   ]
  },
  {
   "cell_type": "code",
   "execution_count": null,
   "id": "e714a7a9",
   "metadata": {},
   "outputs": [],
   "source": [
    "#25점\n",
    "def solution(priorities, location):\n",
    "    answer = priorities[location]\n",
    "    stack=[]d\n",
    "    maxi=max(priorities)\n",
    "    while priorities:\n",
    "        maxi=max(priorities)\n",
    "        if priorities[0]<maxi:\n",
    "            priorities.append(priorities.pop(0))\n",
    "        else:\n",
    "            stack.append(priorities.pop(0))\n",
    "    return  stack.index(answer)+1"
   ]
  },
  {
   "cell_type": "code",
   "execution_count": 2,
   "id": "8a66c811",
   "metadata": {},
   "outputs": [],
   "source": [
    "#답지 1번\n",
    "def solution(priorities, location):\n",
    "    answer = 0\n",
    "    while True:\n",
    "        maxi=max(priorities)\n",
    "        for i in range(len(priorities)):\n",
    "            if maxi==priorities[i]:\n",
    "                answer+=1\n",
    "                priorities[i]=0\n",
    "                maxi=max(priorities)\n",
    "                if i==location:\n",
    "                    return answer"
   ]
  },
  {
   "cell_type": "code",
   "execution_count": 4,
   "id": "f16f0f0b",
   "metadata": {},
   "outputs": [],
   "source": [
    "#답지 2번\n",
    "def solution(priorities,location):\n",
    "    answer=0\n",
    "    m=max(priorities)\n",
    "    while True:\n",
    "        v=priorities.pop(0)\n",
    "        if m==v:\n",
    "            ans+=1\n",
    "            if location==0:\n",
    "                break\n",
    "            else:\n",
    "                location-=1\n",
    "            m=max(p)\n",
    "        else:\n",
    "            priorities.append(v)\n",
    "            if location==0:\n",
    "                location=len(p)-1\n",
    "            else:\n",
    "                location-=1\n",
    "    return ans"
   ]
  },
  {
   "cell_type": "code",
   "execution_count": null,
   "id": "3b4e067c",
   "metadata": {},
   "outputs": [],
   "source": [
    "#답지 3번\n",
    "def solution(priorities,location):\n",
    "    queue=[(i,p) for i,p in enumerate(priorities)]\n",
    "    answer=0\n",
    "    while True:\n",
    "        v=queue.pop(0)\n",
    "    if any(v[1]<q[1] for q in queue): #v[1]가 가장 큰 수가 아닐 경우\n",
    "        queue.append(v)\n",
    "    else:\n",
    "        answer+=1\n",
    "        if v[0]==location:\n",
    "            return answer"
   ]
  },
  {
   "cell_type": "code",
   "execution_count": null,
   "id": "8d2aa3d0",
   "metadata": {},
   "outputs": [],
   "source": []
  },
  {
   "cell_type": "code",
   "execution_count": null,
   "id": "3f7b1d1c",
   "metadata": {},
   "outputs": [],
   "source": []
  },
  {
   "cell_type": "code",
   "execution_count": null,
   "id": "a075b75c",
   "metadata": {},
   "outputs": [],
   "source": []
  }
 ],
 "metadata": {
  "kernelspec": {
   "display_name": "Python 3",
   "language": "python",
   "name": "python3"
  },
  "language_info": {
   "codemirror_mode": {
    "name": "ipython",
    "version": 3
   },
   "file_extension": ".py",
   "mimetype": "text/x-python",
   "name": "python",
   "nbconvert_exporter": "python",
   "pygments_lexer": "ipython3",
   "version": "3.8.8"
  }
 },
 "nbformat": 4,
 "nbformat_minor": 5
}
