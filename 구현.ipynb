{
 "cells": [
  {
   "cell_type": "markdown",
   "id": "6cd8c0e2",
   "metadata": {},
   "source": [
    "# 분산처리"
   ]
  },
  {
   "cell_type": "code",
   "execution_count": null,
   "id": "e78ae96a",
   "metadata": {},
   "outputs": [],
   "source": [
    "for _ in range(int(input())):\n",
    "    a,b=map(int,input().split())\n",
    "    if a%10==0:\n",
    "        print(10)\n",
    "    elif b%4==0:\n",
    "        print((a**4)%10)\n",
    "    else:\n",
    "        print((a**(b%4))%10)"
   ]
  },
  {
   "cell_type": "markdown",
   "id": "aae93390",
   "metadata": {},
   "source": [
    "기존에 하는 것처럼 a** b를 하면 시간초과 발생\\\n",
    "입력 값이 (1 ≤ a < 100, 1 ≤ b < 1,000,000)일 때, b의 크기 땜에 시간초과\\\n",
    "규칙을 찾는 것이 중요\\\n",
    "2의 제곱은 [2,4,8,6]이 반복,3의 제곱도 [3,9,7,1] 다른 숫자도 총 4번씩 반복.\n"
   ]
  },
  {
   "cell_type": "markdown",
   "id": "05fd9277",
   "metadata": {},
   "source": [
    "# 1로 만들기"
   ]
  },
  {
   "cell_type": "code",
   "execution_count": 59,
   "id": "88d8f71a",
   "metadata": {},
   "outputs": [
    {
     "name": "stdout",
     "output_type": "stream",
     "text": [
      "2\n",
      "0\n"
     ]
    }
   ],
   "source": [
    "N=int(input())\n",
    "dp=[0]*(n+1)\n",
    "\n",
    "for i in range(2,n+1):\n",
    "    dp[i]=dp[i-1]+1\n",
    "    if i%2==0:\n",
    "        dp[i]=min(dp[i],dp[i//2]+1)\n",
    "    if i % 3 == 0:\n",
    "        dp[i] = min(dp[i], dp[i//3] + 1)\n",
    "\n",
    "print(dp[n])"
   ]
  },
  {
   "cell_type": "markdown",
   "id": "4a9b583c",
   "metadata": {},
   "source": []
  },
  {
   "cell_type": "markdown",
   "id": "8e003252",
   "metadata": {},
   "source": [
    "# 14501번 퇴사"
   ]
  },
  {
   "cell_type": "code",
   "execution_count": 40,
   "id": "162e7f1a",
   "metadata": {},
   "outputs": [
    {
     "data": {
      "text/plain": [
       "[[3, 10], [5, 20], [1, 10], [1, 20], [2, 15], [4, 40], [2, 200]]"
      ]
     },
     "execution_count": 40,
     "metadata": {},
     "output_type": "execute_result"
    }
   ],
   "source": [
    "li"
   ]
  },
  {
   "cell_type": "code",
   "execution_count": 48,
   "id": "0527a2d2",
   "metadata": {},
   "outputs": [],
   "source": [
    "li2=[[1,1],[1,2],[1,3],[1,4],[1,5],[1,6],[1,7],[1,8],[1,9],[1,10]]"
   ]
  },
  {
   "cell_type": "code",
   "execution_count": 62,
   "id": "a5c6e90c",
   "metadata": {},
   "outputs": [
    {
     "name": "stdout",
     "output_type": "stream",
     "text": [
      "10\n",
      "5 50\n",
      "4 40\n",
      "3 30\n",
      "2 20\n",
      "1 10\n",
      "1 10\n",
      "2 20\n",
      "3 30\n",
      "4 40\n",
      "5 50\n",
      "120\n"
     ]
    },
    {
     "data": {
      "text/plain": [
       "[120, 110, 100, 90, 80, 70, 60, 30, 40, 0]"
      ]
     },
     "execution_count": 62,
     "metadata": {},
     "output_type": "execute_result"
    }
   ],
   "source": [
    "N=int(input())\n",
    "li=[]\n",
    "for _ in range(N):\n",
    "    li.append(list(map(int,input().split())))\n",
    "cnt=[]\n",
    "for k in range(0,len(li)):\n",
    "    amount=0\n",
    "    while True:\n",
    "        if k>len(li)-1: \n",
    "            break\n",
    "        elif k==(len(li)-1):\n",
    "            if li[k][0]==1:\n",
    "                amount+=li[k][1]\n",
    "                k=k+1\n",
    "            k=k+1\n",
    "        elif k<len(li)-1:\n",
    "            amount+=li[k][1]\n",
    "            k+=li[k][0]\n",
    "    cnt.append(amount)\n",
    "print(max(cnt))\n",
    "cnt"
   ]
  },
  {
   "cell_type": "markdown",
   "id": "cf275c3d",
   "metadata": {},
   "source": [
    "예제 4번에서 오류가 뜬다...\\\n",
    "이렇게 푸는 문제가 아닌듯 "
   ]
  },
  {
   "cell_type": "code",
   "execution_count": 65,
   "id": "ce7ee3e7",
   "metadata": {},
   "outputs": [
    {
     "name": "stdout",
     "output_type": "stream",
     "text": [
      "60\n"
     ]
    }
   ],
   "source": [
    "n=7\n",
    "dp = [0] * (n + 1)\n",
    "for i in range(n-1, -1, -1):\n",
    "    if i + li[i][0] <= n:\n",
    "        dp[i] = li[i][1] + max(dp[i + li[i][0]:])\n",
    "    else:\n",
    "        dp[i] = 0\n",
    "print(max(dp))"
   ]
  },
  {
   "cell_type": "markdown",
   "id": "b27ede29",
   "metadata": {},
   "source": [
    "죄송한데 모르겟어요.ㅅㅂ"
   ]
  },
  {
   "cell_type": "markdown",
   "id": "e95592d8",
   "metadata": {},
   "source": [
    "# 9095번. 1,2,3 더하기"
   ]
  },
  {
   "cell_type": "code",
   "execution_count": 76,
   "id": "eccbc233",
   "metadata": {},
   "outputs": [
    {
     "name": "stdout",
     "output_type": "stream",
     "text": [
      "1\n",
      "7\n",
      "44\n"
     ]
    }
   ],
   "source": [
    "for _ in range(int(input())):\n",
    "    N=int(input())\n",
    "    graph=[0]*max(4,(N+1))\n",
    "    graph[1]=1\n",
    "    graph[2]=2\n",
    "    graph[3]=4\n",
    "    if N>=4:\n",
    "        for i in range(4,N+1):\n",
    "            graph[i]=graph[i-1]+graph[i-2]+graph[i-3]\n",
    "    print(graph[N])"
   ]
  },
  {
   "cell_type": "markdown",
   "id": "5b631f31",
   "metadata": {},
   "source": [
    "DP문제였음.->규칙 찾는 게 중요\\\n",
    "graph=[0]*max(4,(N+1))\\\n",
    "N+1크기로 했으면 런타임 에러. 3미만시 에러 작동"
   ]
  },
  {
   "cell_type": "markdown",
   "id": "3e0324f2",
   "metadata": {},
   "source": [
    "# 13414번. 수강신청"
   ]
  },
  {
   "cell_type": "code",
   "execution_count": 92,
   "id": "674d711c",
   "metadata": {},
   "outputs": [
    {
     "ename": "KeyboardInterrupt",
     "evalue": "Interrupted by user",
     "output_type": "error",
     "traceback": [
      "\u001b[1;31m---------------------------------------------------------------------------\u001b[0m",
      "\u001b[1;31mKeyboardInterrupt\u001b[0m                         Traceback (most recent call last)",
      "\u001b[1;32m<ipython-input-92-7f676981a5d8>\u001b[0m in \u001b[0;36m<module>\u001b[1;34m\u001b[0m\n\u001b[1;32m----> 1\u001b[1;33m \u001b[0mK\u001b[0m\u001b[1;33m,\u001b[0m\u001b[0mL\u001b[0m\u001b[1;33m=\u001b[0m\u001b[0mmap\u001b[0m\u001b[1;33m(\u001b[0m\u001b[0mint\u001b[0m\u001b[1;33m,\u001b[0m\u001b[0minput\u001b[0m\u001b[1;33m(\u001b[0m\u001b[1;33m)\u001b[0m\u001b[1;33m.\u001b[0m\u001b[0msplit\u001b[0m\u001b[1;33m(\u001b[0m\u001b[1;33m)\u001b[0m\u001b[1;33m)\u001b[0m\u001b[1;33m\u001b[0m\u001b[1;33m\u001b[0m\u001b[0m\n\u001b[0m\u001b[0;32m      2\u001b[0m \u001b[0mli\u001b[0m\u001b[1;33m=\u001b[0m\u001b[1;33m[\u001b[0m\u001b[1;33m]\u001b[0m\u001b[1;33m\u001b[0m\u001b[1;33m\u001b[0m\u001b[0m\n\u001b[0;32m      3\u001b[0m \u001b[1;32mfor\u001b[0m \u001b[0m_\u001b[0m \u001b[1;32min\u001b[0m \u001b[0mrange\u001b[0m\u001b[1;33m(\u001b[0m\u001b[0mL\u001b[0m\u001b[1;33m)\u001b[0m\u001b[1;33m:\u001b[0m\u001b[1;33m\u001b[0m\u001b[1;33m\u001b[0m\u001b[0m\n\u001b[0;32m      4\u001b[0m     \u001b[0mli\u001b[0m\u001b[1;33m.\u001b[0m\u001b[0mappend\u001b[0m\u001b[1;33m(\u001b[0m\u001b[0minput\u001b[0m\u001b[1;33m(\u001b[0m\u001b[1;33m)\u001b[0m\u001b[1;33m)\u001b[0m\u001b[1;33m\u001b[0m\u001b[1;33m\u001b[0m\u001b[0m\n\u001b[0;32m      5\u001b[0m \u001b[0mcnt\u001b[0m\u001b[1;33m=\u001b[0m\u001b[1;36m0\u001b[0m\u001b[1;33m\u001b[0m\u001b[1;33m\u001b[0m\u001b[0m\n",
      "\u001b[1;32m~\\anaconda3\\lib\\site-packages\\ipykernel\\kernelbase.py\u001b[0m in \u001b[0;36mraw_input\u001b[1;34m(self, prompt)\u001b[0m\n\u001b[0;32m    858\u001b[0m                 \u001b[1;34m\"raw_input was called, but this frontend does not support input requests.\"\u001b[0m\u001b[1;33m\u001b[0m\u001b[1;33m\u001b[0m\u001b[0m\n\u001b[0;32m    859\u001b[0m             )\n\u001b[1;32m--> 860\u001b[1;33m         return self._input_request(str(prompt),\n\u001b[0m\u001b[0;32m    861\u001b[0m             \u001b[0mself\u001b[0m\u001b[1;33m.\u001b[0m\u001b[0m_parent_ident\u001b[0m\u001b[1;33m,\u001b[0m\u001b[1;33m\u001b[0m\u001b[1;33m\u001b[0m\u001b[0m\n\u001b[0;32m    862\u001b[0m             \u001b[0mself\u001b[0m\u001b[1;33m.\u001b[0m\u001b[0m_parent_header\u001b[0m\u001b[1;33m,\u001b[0m\u001b[1;33m\u001b[0m\u001b[1;33m\u001b[0m\u001b[0m\n",
      "\u001b[1;32m~\\anaconda3\\lib\\site-packages\\ipykernel\\kernelbase.py\u001b[0m in \u001b[0;36m_input_request\u001b[1;34m(self, prompt, ident, parent, password)\u001b[0m\n\u001b[0;32m    902\u001b[0m             \u001b[1;32mexcept\u001b[0m \u001b[0mKeyboardInterrupt\u001b[0m\u001b[1;33m:\u001b[0m\u001b[1;33m\u001b[0m\u001b[1;33m\u001b[0m\u001b[0m\n\u001b[0;32m    903\u001b[0m                 \u001b[1;31m# re-raise KeyboardInterrupt, to truncate traceback\u001b[0m\u001b[1;33m\u001b[0m\u001b[1;33m\u001b[0m\u001b[1;33m\u001b[0m\u001b[0m\n\u001b[1;32m--> 904\u001b[1;33m                 \u001b[1;32mraise\u001b[0m \u001b[0mKeyboardInterrupt\u001b[0m\u001b[1;33m(\u001b[0m\u001b[1;34m\"Interrupted by user\"\u001b[0m\u001b[1;33m)\u001b[0m \u001b[1;32mfrom\u001b[0m \u001b[1;32mNone\u001b[0m\u001b[1;33m\u001b[0m\u001b[1;33m\u001b[0m\u001b[0m\n\u001b[0m\u001b[0;32m    905\u001b[0m             \u001b[1;32mexcept\u001b[0m \u001b[0mException\u001b[0m \u001b[1;32mas\u001b[0m \u001b[0me\u001b[0m\u001b[1;33m:\u001b[0m\u001b[1;33m\u001b[0m\u001b[1;33m\u001b[0m\u001b[0m\n\u001b[0;32m    906\u001b[0m                 \u001b[0mself\u001b[0m\u001b[1;33m.\u001b[0m\u001b[0mlog\u001b[0m\u001b[1;33m.\u001b[0m\u001b[0mwarning\u001b[0m\u001b[1;33m(\u001b[0m\u001b[1;34m\"Invalid Message:\"\u001b[0m\u001b[1;33m,\u001b[0m \u001b[0mexc_info\u001b[0m\u001b[1;33m=\u001b[0m\u001b[1;32mTrue\u001b[0m\u001b[1;33m)\u001b[0m\u001b[1;33m\u001b[0m\u001b[1;33m\u001b[0m\u001b[0m\n",
      "\u001b[1;31mKeyboardInterrupt\u001b[0m: Interrupted by user"
     ]
    }
   ],
   "source": [
    "K,L=map(int,input().split())\n",
    "li=[]\n",
    "for _ in range(L):\n",
    "    li.append(input())\n",
    "cnt=0\n",
    "while cnt<K:\n",
    "    x=li.pop(0)\n",
    "    if x not in li:\n",
    "        print(x)\n",
    "        cnt+=1\n",
    "    else:\n",
    "        pass"
   ]
  },
  {
   "cell_type": "markdown",
   "id": "0e69ce83",
   "metadata": {},
   "source": [
    "예제는 맞으나 시간초과가 발생한다."
   ]
  },
  {
   "cell_type": "code",
   "execution_count": 96,
   "id": "f3f1af4b",
   "metadata": {
    "scrolled": true
   },
   "outputs": [
    {
     "ename": "KeyboardInterrupt",
     "evalue": "Interrupted by user",
     "output_type": "error",
     "traceback": [
      "\u001b[1;31m---------------------------------------------------------------------------\u001b[0m",
      "\u001b[1;31mKeyboardInterrupt\u001b[0m                         Traceback (most recent call last)",
      "\u001b[1;32m<ipython-input-96-02679b33105b>\u001b[0m in \u001b[0;36m<module>\u001b[1;34m\u001b[0m\n\u001b[1;32m----> 1\u001b[1;33m \u001b[0mK\u001b[0m\u001b[1;33m,\u001b[0m\u001b[0mL\u001b[0m\u001b[1;33m=\u001b[0m\u001b[0mmap\u001b[0m\u001b[1;33m(\u001b[0m\u001b[0mint\u001b[0m\u001b[1;33m,\u001b[0m\u001b[0minput\u001b[0m\u001b[1;33m(\u001b[0m\u001b[1;33m)\u001b[0m\u001b[1;33m.\u001b[0m\u001b[0msplit\u001b[0m\u001b[1;33m(\u001b[0m\u001b[1;33m)\u001b[0m\u001b[1;33m)\u001b[0m\u001b[1;33m\u001b[0m\u001b[1;33m\u001b[0m\u001b[0m\n\u001b[0m\u001b[0;32m      2\u001b[0m \u001b[0msugang\u001b[0m\u001b[1;33m=\u001b[0m\u001b[1;33m{\u001b[0m\u001b[1;33m}\u001b[0m\u001b[1;33m\u001b[0m\u001b[1;33m\u001b[0m\u001b[0m\n\u001b[0;32m      3\u001b[0m \u001b[1;32mfor\u001b[0m \u001b[0mi\u001b[0m \u001b[1;32min\u001b[0m \u001b[0mrange\u001b[0m\u001b[1;33m(\u001b[0m\u001b[1;36m1\u001b[0m\u001b[1;33m,\u001b[0m\u001b[0mL\u001b[0m\u001b[1;33m+\u001b[0m\u001b[1;36m1\u001b[0m\u001b[1;33m)\u001b[0m\u001b[1;33m:\u001b[0m\u001b[1;33m\u001b[0m\u001b[1;33m\u001b[0m\u001b[0m\n\u001b[0;32m      4\u001b[0m     \u001b[0mid\u001b[0m\u001b[1;33m=\u001b[0m\u001b[0minput\u001b[0m\u001b[1;33m(\u001b[0m\u001b[1;33m)\u001b[0m\u001b[1;33m\u001b[0m\u001b[1;33m\u001b[0m\u001b[0m\n\u001b[0;32m      5\u001b[0m     \u001b[0msugang\u001b[0m\u001b[1;33m[\u001b[0m\u001b[0mid\u001b[0m\u001b[1;33m]\u001b[0m\u001b[1;33m=\u001b[0m\u001b[0mi\u001b[0m\u001b[1;33m\u001b[0m\u001b[1;33m\u001b[0m\u001b[0m\n",
      "\u001b[1;32m~\\anaconda3\\lib\\site-packages\\ipykernel\\kernelbase.py\u001b[0m in \u001b[0;36mraw_input\u001b[1;34m(self, prompt)\u001b[0m\n\u001b[0;32m    858\u001b[0m                 \u001b[1;34m\"raw_input was called, but this frontend does not support input requests.\"\u001b[0m\u001b[1;33m\u001b[0m\u001b[1;33m\u001b[0m\u001b[0m\n\u001b[0;32m    859\u001b[0m             )\n\u001b[1;32m--> 860\u001b[1;33m         return self._input_request(str(prompt),\n\u001b[0m\u001b[0;32m    861\u001b[0m             \u001b[0mself\u001b[0m\u001b[1;33m.\u001b[0m\u001b[0m_parent_ident\u001b[0m\u001b[1;33m,\u001b[0m\u001b[1;33m\u001b[0m\u001b[1;33m\u001b[0m\u001b[0m\n\u001b[0;32m    862\u001b[0m             \u001b[0mself\u001b[0m\u001b[1;33m.\u001b[0m\u001b[0m_parent_header\u001b[0m\u001b[1;33m,\u001b[0m\u001b[1;33m\u001b[0m\u001b[1;33m\u001b[0m\u001b[0m\n",
      "\u001b[1;32m~\\anaconda3\\lib\\site-packages\\ipykernel\\kernelbase.py\u001b[0m in \u001b[0;36m_input_request\u001b[1;34m(self, prompt, ident, parent, password)\u001b[0m\n\u001b[0;32m    902\u001b[0m             \u001b[1;32mexcept\u001b[0m \u001b[0mKeyboardInterrupt\u001b[0m\u001b[1;33m:\u001b[0m\u001b[1;33m\u001b[0m\u001b[1;33m\u001b[0m\u001b[0m\n\u001b[0;32m    903\u001b[0m                 \u001b[1;31m# re-raise KeyboardInterrupt, to truncate traceback\u001b[0m\u001b[1;33m\u001b[0m\u001b[1;33m\u001b[0m\u001b[1;33m\u001b[0m\u001b[0m\n\u001b[1;32m--> 904\u001b[1;33m                 \u001b[1;32mraise\u001b[0m \u001b[0mKeyboardInterrupt\u001b[0m\u001b[1;33m(\u001b[0m\u001b[1;34m\"Interrupted by user\"\u001b[0m\u001b[1;33m)\u001b[0m \u001b[1;32mfrom\u001b[0m \u001b[1;32mNone\u001b[0m\u001b[1;33m\u001b[0m\u001b[1;33m\u001b[0m\u001b[0m\n\u001b[0m\u001b[0;32m    905\u001b[0m             \u001b[1;32mexcept\u001b[0m \u001b[0mException\u001b[0m \u001b[1;32mas\u001b[0m \u001b[0me\u001b[0m\u001b[1;33m:\u001b[0m\u001b[1;33m\u001b[0m\u001b[1;33m\u001b[0m\u001b[0m\n\u001b[0;32m    906\u001b[0m                 \u001b[0mself\u001b[0m\u001b[1;33m.\u001b[0m\u001b[0mlog\u001b[0m\u001b[1;33m.\u001b[0m\u001b[0mwarning\u001b[0m\u001b[1;33m(\u001b[0m\u001b[1;34m\"Invalid Message:\"\u001b[0m\u001b[1;33m,\u001b[0m \u001b[0mexc_info\u001b[0m\u001b[1;33m=\u001b[0m\u001b[1;32mTrue\u001b[0m\u001b[1;33m)\u001b[0m\u001b[1;33m\u001b[0m\u001b[1;33m\u001b[0m\u001b[0m\n",
      "\u001b[1;31mKeyboardInterrupt\u001b[0m: Interrupted by user"
     ]
    }
   ],
   "source": [
    "K,L=map(int,input().split())\n",
    "sugang={}\n",
    "for i in range(1,L+1):\n",
    "    id=input()\n",
    "    sugang[id]=i\n",
    "print(*sorted(sugang,key=lambda x:sugang[x])[:K],sep='\\n')"
   ]
  },
  {
   "cell_type": "code",
   "execution_count": 105,
   "id": "264fd20f",
   "metadata": {},
   "outputs": [
    {
     "name": "stdout",
     "output_type": "stream",
     "text": [
      "20103324\n",
      "20133221\n",
      "20140101\n"
     ]
    }
   ],
   "source": [
    "print(*sorted(sugang,key=lambda x:sugang[x])[:K],sep='\\n')"
   ]
  },
  {
   "cell_type": "code",
   "execution_count": 110,
   "id": "f528d53b",
   "metadata": {},
   "outputs": [
    {
     "name": "stdout",
     "output_type": "stream",
     "text": [
      "20103324\n",
      "20133221\n",
      "20093778\n",
      "20140101\n",
      "01234567\n",
      "20103325\n"
     ]
    }
   ],
   "source": [
    "for x in sugang.keys():\n",
    "    print(x)"
   ]
  },
  {
   "cell_type": "markdown",
   "id": "60bc7797",
   "metadata": {},
   "source": [
    "# 2477번. 참외밭 "
   ]
  },
  {
   "cell_type": "code",
   "execution_count": 127,
   "id": "c9a5a52a",
   "metadata": {
    "scrolled": false
   },
   "outputs": [
    {
     "name": "stdout",
     "output_type": "stream",
     "text": [
      "1\n",
      "4 10\n",
      "2 10\n",
      "3 1\n",
      "1 9\n",
      "3 9\n",
      "1 1\n",
      "99\n"
     ]
    }
   ],
   "source": [
    "N=int(input())\n",
    "li1=[]\n",
    "li2=[]\n",
    "for _ in range(6):\n",
    "    a,b=map(int,input().split())\n",
    "    if a==3 or a==4:\n",
    "        li1.append(b)\n",
    "    elif a==1 or a==2:\n",
    "        li2.append(b)\n",
    "print((max(li1)*max(li2)-min(li1)*min(li2))*N)\n",
    "\n"
   ]
  },
  {
   "cell_type": "markdown",
   "id": "982919cd",
   "metadata": {},
   "source": [
    "이 방법은 반례가 생긴다.\\\n",
    "반례\\\n",
    "1\\\n",
    "4 10\\\n",
    "2 10\\\n",
    "3 1\\\n",
    "1 9\\\n",
    "3 9\\\n",
    "1 1\\\n",
    "정답:19 출력: 99"
   ]
  },
  {
   "cell_type": "code",
   "execution_count": 145,
   "id": "ffd67179",
   "metadata": {
    "scrolled": true
   },
   "outputs": [
    {
     "name": "stdout",
     "output_type": "stream",
     "text": [
      "1 \n",
      "2 5\n",
      "3 5\n",
      "1  1\n",
      "4 2\n",
      "1 4\n",
      "4 3\n",
      "17\n"
     ]
    }
   ],
   "source": [
    "N=int(input())\n",
    "height=[]\n",
    "width=[]\n",
    "total=[]\n",
    "for _ in range(6):\n",
    "    a,b=map(int,input().split())\n",
    "    if a==3 or a==4:\n",
    "        height.append(b)\n",
    "        total.append(b)\n",
    "    elif a==1 or a==2:\n",
    "        width.append(b)\n",
    "        total.append(b)\n",
    "big=max(height)*max(width)\n",
    "maximum1=max(height)\n",
    "maximum2=max(width)\n",
    "\n",
    "min1=total[(total.index(maximum1)+3)%6]\n",
    "min2=total[(total.index(maximum2)+3)%6]\n",
    "print((big-min1*min2)*N)"
   ]
  },
  {
   "cell_type": "code",
   "execution_count": null,
   "id": "4ba7b738",
   "metadata": {},
   "outputs": [],
   "source": []
  },
  {
   "cell_type": "code",
   "execution_count": null,
   "id": "b309e544",
   "metadata": {},
   "outputs": [],
   "source": []
  }
 ],
 "metadata": {
  "kernelspec": {
   "display_name": "Python 3",
   "language": "python",
   "name": "python3"
  },
  "language_info": {
   "codemirror_mode": {
    "name": "ipython",
    "version": 3
   },
   "file_extension": ".py",
   "mimetype": "text/x-python",
   "name": "python",
   "nbconvert_exporter": "python",
   "pygments_lexer": "ipython3",
   "version": "3.8.8"
  }
 },
 "nbformat": 4,
 "nbformat_minor": 5
}
