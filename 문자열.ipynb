{
 "cells": [
  {
   "cell_type": "markdown",
   "id": "348e63b9",
   "metadata": {},
   "source": [
    "# 아스키코드"
   ]
  },
  {
   "cell_type": "code",
   "execution_count": 5,
   "id": "a0cf5292",
   "metadata": {},
   "outputs": [
    {
     "name": "stdout",
     "output_type": "stream",
     "text": [
      "0\n",
      "48\n"
     ]
    }
   ],
   "source": [
    "a=input()\n",
    "if type(a)==str:\n",
    "    print(ord(a)) #문자를 아스키코드로 변환\n",
    "else:\n",
    "    print(chr(a)) #숫자를 아스키코드로 변환"
   ]
  },
  {
   "cell_type": "markdown",
   "id": "2d762393",
   "metadata": {},
   "source": [
    "# 문자열 반복"
   ]
  },
  {
   "cell_type": "code",
   "execution_count": 61,
   "id": "3e474648",
   "metadata": {},
   "outputs": [
    {
     "name": "stdout",
     "output_type": "stream",
     "text": [
      "2\n",
      "3 ABC\n",
      "AAABBBCCC\n",
      "2 skmew\n",
      "sskkmmeeww\n"
     ]
    }
   ],
   "source": [
    "for _ in range(int(input())):\n",
    "    R,S=map(str,input().split())\n",
    "    for i in range(len(S)):\n",
    "        for _ in range(int(R)):\n",
    "            print(S[i],end=\"\")\n",
    "    print()"
   ]
  },
  {
   "cell_type": "markdown",
   "id": "0a298505",
   "metadata": {},
   "source": [
    "# 단어 공부\n",
    "문자열은 리스트에 대입하면 그대로 대입된다.\\\n",
    "문자 갯수 세는 함수 count"
   ]
  },
  {
   "cell_type": "code",
   "execution_count": 82,
   "id": "9c2c51b8",
   "metadata": {
    "scrolled": true
   },
   "outputs": [
    {
     "name": "stdout",
     "output_type": "stream",
     "text": [
      "vaaa\n",
      "A\n"
     ]
    }
   ],
   "source": [
    "word=input().upper()\n",
    "alpha=set(list(word))\n",
    "dic={}\n",
    "for x in alpha:\n",
    "    dic[x]=word.count(x)\n",
    "maximum=max(dic.values())\n",
    "count=0\n",
    "for key in dic:\n",
    "    if dic[key]==maximum:\n",
    "        count+=1\n",
    "\n",
    "if count>1:\n",
    "    print(\"?\")\n",
    "else:\n",
    "    for key in dic:\n",
    "        if dic[key]==maximum:\n",
    "            print(key)"
   ]
  },
  {
   "cell_type": "markdown",
   "id": "4dd87f9c",
   "metadata": {},
   "source": [
    "# 단어의 개수"
   ]
  },
  {
   "cell_type": "code",
   "execution_count": 99,
   "id": "a0a44a7a",
   "metadata": {},
   "outputs": [
    {
     "name": "stdout",
     "output_type": "stream",
     "text": [
      "The Curious case of\n",
      "4\n"
     ]
    }
   ],
   "source": [
    "print(len(input().split()))"
   ]
  },
  {
   "cell_type": "code",
   "execution_count": 100,
   "id": "238bbb6a",
   "metadata": {},
   "outputs": [
    {
     "name": "stdout",
     "output_type": "stream",
     "text": [
      "the smslefkslf sfefe\n",
      "3\n"
     ]
    }
   ],
   "source": [
    "word=input()\n",
    "if word==\"\":\n",
    "    print(0)\n",
    "elif len(word)>=1:\n",
    "    print(word.count(\" \")+1)\n",
    "->문제점을 모르겠어요 하.."
   ]
  },
  {
   "cell_type": "markdown",
   "id": "756046bb",
   "metadata": {},
   "source": [
    "# 크로아티아 알파벳"
   ]
  },
  {
   "cell_type": "code",
   "execution_count": 102,
   "id": "6c1964fc",
   "metadata": {},
   "outputs": [
    {
     "name": "stdout",
     "output_type": "stream",
     "text": [
      "ljes=njak\n",
      "6\n"
     ]
    }
   ],
   "source": [
    "lst=[\"c=\",\"c-\",\"dz=\",\"d-\",\"lj\",\"nj\",\"s=\",\"z=\"]\n",
    "word=input()\n",
    "count=0\n",
    "for x in lst:\n",
    "    count+=word.count(x)\n",
    "print(len(word)-count)"
   ]
  }
 ],
 "metadata": {
  "kernelspec": {
   "display_name": "Python 3",
   "language": "python",
   "name": "python3"
  },
  "language_info": {
   "codemirror_mode": {
    "name": "ipython",
    "version": 3
   },
   "file_extension": ".py",
   "mimetype": "text/x-python",
   "name": "python",
   "nbconvert_exporter": "python",
   "pygments_lexer": "ipython3",
   "version": "3.8.8"
  }
 },
 "nbformat": 4,
 "nbformat_minor": 5
}
