{
 "cells": [
  {
   "cell_type": "markdown",
   "id": "d769c194",
   "metadata": {},
   "source": [
    "# 위장\n",
    "[[\"yellow_hat\", \"headgear\"], [\"blue_sunglasses\", \"eyewear\"], [\"green_turban\", \"headgear\"]]\t"
   ]
  },
  {
   "cell_type": "code",
   "execution_count": null,
   "id": "adcb4208",
   "metadata": {},
   "outputs": [],
   "source": [
    "def solution(clothes):\n",
    "    items={}\n",
    "    for item,category in clothes:\n",
    "        if category not in items:\n",
    "            items[category]=[]\n",
    "        items[category].append(item)\n",
    "    answer=1\n",
    "    for k in items.keys():\n",
    "        answer*=len(items[k])+1 #abc+a+b+c=(a+1)*(b+1)*(c+1)-1\n",
    "\n",
    "    return answer-1 #하나도 안입는 경우"
   ]
  },
  {
   "cell_type": "code",
   "execution_count": null,
   "id": "38172242",
   "metadata": {},
   "outputs": [],
   "source": []
  }
 ],
 "metadata": {
  "kernelspec": {
   "display_name": "Python 3",
   "language": "python",
   "name": "python3"
  },
  "language_info": {
   "codemirror_mode": {
    "name": "ipython",
    "version": 3
   },
   "file_extension": ".py",
   "mimetype": "text/x-python",
   "name": "python",
   "nbconvert_exporter": "python",
   "pygments_lexer": "ipython3",
   "version": "3.8.8"
  }
 },
 "nbformat": 4,
 "nbformat_minor": 5
}
