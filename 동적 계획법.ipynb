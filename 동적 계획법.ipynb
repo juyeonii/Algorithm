{
 "cells": [
  {
   "cell_type": "markdown",
   "id": "2f7d3a81",
   "metadata": {},
   "source": [
    "# 피보나치 수열"
   ]
  },
  {
   "cell_type": "code",
   "execution_count": 23,
   "id": "25de634b",
   "metadata": {},
   "outputs": [
    {
     "name": "stdout",
     "output_type": "stream",
     "text": [
      "30\n",
      "832040 832039\n"
     ]
    }
   ],
   "source": [
    "#재귀호출 함수\n",
    "def fib(n):\n",
    "    #global count1\n",
    "    if (n==1 or n==2):\n",
    "        return 1\n",
    "    else:\n",
    "        return fib(n-1)+fib(n-2)\n",
    "n=int(input())\n",
    "print(fib(n))"
   ]
  },
  {
   "cell_type": "code",
   "execution_count": 22,
   "id": "9e5f7a6f",
   "metadata": {},
   "outputs": [
    {
     "name": "stdout",
     "output_type": "stream",
     "text": [
      "30\n",
      "832040\n"
     ]
    }
   ],
   "source": [
    "#동적프로그래밍\n",
    "n=int(input())\n",
    "fibo=[0]*(n+1)\n",
    "for i in range(1,n+1):\n",
    "    if i==1 or i==2:\n",
    "        fibo[i]=1\n",
    "    else:\n",
    "        fibo[i]=fibo[i-1]+fibo[i-2]\n",
    "print(fibo[n])"
   ]
  },
  {
   "cell_type": "markdown",
   "id": "70900e25",
   "metadata": {},
   "source": [
    "# 신나는 함수 실행"
   ]
  },
  {
   "cell_type": "code",
   "execution_count": 11,
   "id": "f272637f",
   "metadata": {},
   "outputs": [
    {
     "name": "stdout",
     "output_type": "stream",
     "text": [
      "1 1 1 \n",
      "w(1, 1, 1) = 2\n",
      "2 2  2\n",
      "w(2, 2, 2) = 4\n",
      "50 60 50\n",
      "w(50, 60, 50) = 1048576\n",
      "-1 -1 -1\n"
     ]
    }
   ],
   "source": [
    "def w(a,b,c):\n",
    "    if a<=0 or b<=0 or c<=0:\n",
    "        return 1\n",
    "    \n",
    "    elif a>20 or b>20 or c>20:\n",
    "        return w(20,20,20)\n",
    "    \n",
    "    elif l[a][b][c]: #값이 존재한다면 그대로 return하는 함수\n",
    "        return l[a][b][c]\n",
    "    \n",
    "    elif a<b<c:\n",
    "        l[a][b][c]=w(a,b,c-1)+w(a,b-1,c-1)-w(a,b-1,c)\n",
    "        return l[a][b][c]\n",
    "    \n",
    "    else:\n",
    "        l[a][b][c]=w(a-1,b,c)+w(a-1,b-1,c)+w(a-1,b,c-1)-w(a-1,b-1,c-1)\n",
    "        return l[a][b][c]\n",
    "    \n",
    "l=[[[0 for _ in range(21)] for _ in range(21)] for _ in range(21)]\n",
    "\n",
    "while True:\n",
    "    a,b,c=map(int,input().split())\n",
    "    if a==b==c==-1:\n",
    "        break\n",
    "    else:\n",
    "        print(\"w(%d, %d, %d) = %d\" %(a,b,c,w(a,b,c)))\n"
   ]
  },
  {
   "cell_type": "markdown",
   "id": "52124212",
   "metadata": {},
   "source": [
    "##### while 안에 memoriztation을 위한 list를 넣었다면 새로운 a,b,c마다 새롭게 저장해야함\n",
    "l=[[[0]*50]*50]*50 의 경우 얕은 복사"
   ]
  },
  {
   "cell_type": "markdown",
   "id": "b76c6fba",
   "metadata": {},
   "source": [
    "# 01타일"
   ]
  },
  {
   "cell_type": "code",
   "execution_count": 38,
   "id": "abe3d94f",
   "metadata": {},
   "outputs": [
    {
     "name": "stdout",
     "output_type": "stream",
     "text": [
      "4\n",
      "5\n"
     ]
    }
   ],
   "source": [
    "N=int(input())\n",
    "li=[0,1,2]\n",
    "for i in range(3,N+1):\n",
    "    li.append((li[i-1]+li[i-2])%15746)\n",
    "print(li[N])"
   ]
  },
  {
   "cell_type": "markdown",
   "id": "9be7e920",
   "metadata": {},
   "source": [
    "이렇게 큰 수로 나누라는 연산이 나오면 계산 시간도 오래걸리고 배열에 큰 값들이 저장되므로 나눈 값을 저장하고 출력하는게 낫다."
   ]
  },
  {
   "cell_type": "markdown",
   "id": "4bb34431",
   "metadata": {},
   "source": [
    "# 파도반 수열"
   ]
  },
  {
   "cell_type": "code",
   "execution_count": null,
   "id": "bafebe78",
   "metadata": {},
   "outputs": [],
   "source": [
    "p=[0,1,1,1,2,2]+[0]*96\n",
    "for i in range(6,101):\n",
    "    p[i]=p[i-1]+p[i-5]\n",
    "\n",
    "for _ in range(int(input())):\n",
    "    print(p[int(input())])"
   ]
  },
  {
   "cell_type": "markdown",
   "id": "7dada633",
   "metadata": {},
   "source": [
    "위의 방법은 [0]을 넣어준 다음 값 변경"
   ]
  },
  {
   "cell_type": "code",
   "execution_count": 27,
   "id": "3adc1775",
   "metadata": {},
   "outputs": [
    {
     "name": "stdout",
     "output_type": "stream",
     "text": [
      "2\n",
      "12\n",
      "16\n",
      "1\n",
      "1\n"
     ]
    }
   ],
   "source": [
    "p=[0,1,1,1,2,2]\n",
    "for i in range(6,101):\n",
    "    p.append(p[i-1]+p[i-5])\n",
    "\n",
    "for _ in range(int(input())):\n",
    "    print(p[int(input())])"
   ]
  },
  {
   "cell_type": "markdown",
   "id": "d7fa6a23",
   "metadata": {},
   "source": [
    "값을 추가하는 방법"
   ]
  },
  {
   "cell_type": "markdown",
   "id": "a448f58f",
   "metadata": {},
   "source": [
    "# 연속합"
   ]
  },
  {
   "cell_type": "code",
   "execution_count": 29,
   "id": "53fb9b9a",
   "metadata": {
    "scrolled": true
   },
   "outputs": [
    {
     "name": "stdout",
     "output_type": "stream",
     "text": [
      "10\n",
      "10 -4 3 1 5 6 -35 12 21 -1\n",
      "33\n",
      "[10, 6, 9, 10, 15, 21, -14, 12, 33, 32]\n"
     ]
    }
   ],
   "source": [
    "n=int(input())\n",
    "a=list(map(int,input().split()))\n",
    "\n",
    "for i in range(1,n):\n",
    "    a[i]=max(a[i],a[i-1]+a[i])\n",
    "print(max(a))\n",
    "print(a)"
   ]
  },
  {
   "cell_type": "markdown",
   "id": "5fe99cc0",
   "metadata": {},
   "source": [
    "# RGB거리"
   ]
  },
  {
   "cell_type": "code",
   "execution_count": 69,
   "id": "545af8ae",
   "metadata": {
    "scrolled": true
   },
   "outputs": [
    {
     "name": "stdout",
     "output_type": "stream",
     "text": [
      "3 \n",
      "1 100 100\n",
      "100 100 100\n",
      "1 100 100\n",
      "102\n"
     ]
    }
   ],
   "source": [
    "n=int(input())\n",
    "arr=[]\n",
    "for _ in range(n):\n",
    "    arr.append(list(map(int,input().split())))\n",
    "for i in range(1,n):\n",
    "    arr[i][0]+=min(arr[i-1][1],arr[i-1][2])\n",
    "    arr[i][1]+=min(arr[i-1][0],arr[i-1][2])\n",
    "    arr[i][2]+=min(arr[i-1][0],arr[i-1][1])\n",
    "print(min(arr[-1]))"
   ]
  },
  {
   "cell_type": "markdown",
   "id": "1e16e1a8",
   "metadata": {},
   "source": [
    "# 정수 삼각형"
   ]
  },
  {
   "cell_type": "code",
   "execution_count": 74,
   "id": "c55340f3",
   "metadata": {},
   "outputs": [
    {
     "name": "stdout",
     "output_type": "stream",
     "text": [
      "5\n",
      "7\n",
      "3 8\n",
      "8 1 0\n",
      "2 7 4 4 \n",
      "4 5 2 6 5\n",
      "30\n"
     ]
    }
   ],
   "source": [
    "arr=[]\n",
    "n=int(input())\n",
    "for _ in range(n):\n",
    "    arr.append(list(map(int,input().split())))\n",
    "for i in range(1,n):\n",
    "    for j in range(len(arr[i])):\n",
    "        if j==0:   #바깥 \n",
    "            arr[i][j]=arr[i-1][j]+arr[i][j]\n",
    "        elif j==(len(arr[i])-1): #바깥\n",
    "            arr[i][j]=arr[i-1][j-1]+arr[i][j]\n",
    "        else: #내부는 둘 중 큰 값 더해야함.\n",
    "            arr[i][j]=arr[i][j]+max(arr[i-1][j-1],arr[i-1][j])\n",
    "print(max(arr[-1]))"
   ]
  },
  {
   "cell_type": "code",
   "execution_count": null,
   "id": "eb5478e3",
   "metadata": {},
   "outputs": [],
   "source": []
  }
 ],
 "metadata": {
  "kernelspec": {
   "display_name": "Python 3",
   "language": "python",
   "name": "python3"
  },
  "language_info": {
   "codemirror_mode": {
    "name": "ipython",
    "version": 3
   },
   "file_extension": ".py",
   "mimetype": "text/x-python",
   "name": "python",
   "nbconvert_exporter": "python",
   "pygments_lexer": "ipython3",
   "version": "3.8.8"
  }
 },
 "nbformat": 4,
 "nbformat_minor": 5
}
