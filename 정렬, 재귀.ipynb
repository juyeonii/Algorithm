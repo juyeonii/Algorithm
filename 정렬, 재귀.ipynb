{
 "cells": [
  {
   "cell_type": "markdown",
   "id": "2014c030",
   "metadata": {},
   "source": [
    "# 오름차순으로 정렬하는 법(수 정렬2)"
   ]
  },
  {
   "cell_type": "code",
   "execution_count": 16,
   "id": "3b7ba9eb",
   "metadata": {},
   "outputs": [
    {
     "name": "stdout",
     "output_type": "stream",
     "text": [
      "10\n",
      "5\n",
      "2\n",
      "3\n",
      "1\n",
      "4\n",
      "2\n",
      "3\n",
      "5\n",
      "1\n",
      "7\n",
      "1\n",
      "1\n",
      "2\n",
      "2\n",
      "3\n",
      "3\n",
      "4\n",
      "5\n",
      "5\n",
      "7\n"
     ]
    }
   ],
   "source": [
    "li=[]\n",
    "for _ in range(int(input())):\n",
    "    li.append(int(input()))\n",
    "for x in sorted(li):\n",
    "    print(x)"
   ]
  },
  {
   "cell_type": "markdown",
   "id": "57a98198",
   "metadata": {},
   "source": [
    "-> 시간초과란다. 왜일까?->pypy3로 제출시 통과한다.\\\n",
    "그리고 python3로 제출하고 싶으면 input 대신 sys사용 "
   ]
  },
  {
   "cell_type": "markdown",
   "id": "c7c8c514",
   "metadata": {},
   "source": [
    "# 오름차순으로 정렬하는 법(수 정렬3)"
   ]
  },
  {
   "cell_type": "markdown",
   "id": "b566075b",
   "metadata": {},
   "source": [
    "위의 방식대로 해결하려고 하면 메모리 초과\\\n",
    "->카운팅 정렬을 사용해야 한다. "
   ]
  },
  {
   "cell_type": "code",
   "execution_count": 25,
   "id": "75d068b4",
   "metadata": {
    "scrolled": true
   },
   "outputs": [
    {
     "name": "stdout",
     "output_type": "stream",
     "text": [
      "10\n",
      "5\n",
      "2\n",
      "3\n",
      "1\n",
      "4\n",
      "2\n",
      "3\n",
      "5\n",
      "1\n",
      "7\n",
      "1\n",
      "1\n",
      "2\n",
      "2\n",
      "3\n",
      "3\n",
      "4\n",
      "5\n",
      "5\n",
      "7\n"
     ]
    }
   ],
   "source": [
    "import sys\n",
    "li=[0]*10001\n",
    "for _ in range(int(sys.stdin.readline())):\n",
    "    li[int(sys.stdin.readline())]+=1\n",
    "for i in range(10001):\n",
    "    if li[i]!=0:\n",
    "        for _ in range(li[i]):\n",
    "            print(i)"
   ]
  },
  {
   "cell_type": "markdown",
   "id": "3dc5b157",
   "metadata": {},
   "source": [
    "# 통계학"
   ]
  },
  {
   "cell_type": "code",
   "execution_count": 105,
   "id": "efe44d5b",
   "metadata": {},
   "outputs": [
    {
     "ename": "ValueError",
     "evalue": "invalid literal for int() with base 10: ''",
     "output_type": "error",
     "traceback": [
      "\u001b[1;31m---------------------------------------------------------------------------\u001b[0m",
      "\u001b[1;31mValueError\u001b[0m                                Traceback (most recent call last)",
      "\u001b[1;32m<ipython-input-105-d4d42b01bff2>\u001b[0m in \u001b[0;36m<module>\u001b[1;34m\u001b[0m\n\u001b[0;32m      1\u001b[0m \u001b[0mli\u001b[0m\u001b[1;33m=\u001b[0m\u001b[1;33m[\u001b[0m\u001b[1;33m]\u001b[0m\u001b[1;33m\u001b[0m\u001b[1;33m\u001b[0m\u001b[0m\n\u001b[1;32m----> 2\u001b[1;33m \u001b[1;32mfor\u001b[0m \u001b[0m_\u001b[0m \u001b[1;32min\u001b[0m \u001b[0mrange\u001b[0m\u001b[1;33m(\u001b[0m\u001b[0mint\u001b[0m\u001b[1;33m(\u001b[0m\u001b[0minput\u001b[0m\u001b[1;33m(\u001b[0m\u001b[1;33m)\u001b[0m\u001b[1;33m)\u001b[0m\u001b[1;33m)\u001b[0m\u001b[1;33m:\u001b[0m\u001b[1;33m\u001b[0m\u001b[1;33m\u001b[0m\u001b[0m\n\u001b[0m\u001b[0;32m      3\u001b[0m     \u001b[0mli\u001b[0m\u001b[1;33m.\u001b[0m\u001b[0mappend\u001b[0m\u001b[1;33m(\u001b[0m\u001b[0mint\u001b[0m\u001b[1;33m(\u001b[0m\u001b[0minput\u001b[0m\u001b[1;33m(\u001b[0m\u001b[1;33m)\u001b[0m\u001b[1;33m)\u001b[0m\u001b[1;33m)\u001b[0m\u001b[1;33m\u001b[0m\u001b[1;33m\u001b[0m\u001b[0m\n\u001b[0;32m      4\u001b[0m \u001b[0mli\u001b[0m\u001b[1;33m=\u001b[0m\u001b[0msorted\u001b[0m\u001b[1;33m(\u001b[0m\u001b[0mli\u001b[0m\u001b[1;33m)\u001b[0m\u001b[1;33m\u001b[0m\u001b[1;33m\u001b[0m\u001b[0m\n\u001b[0;32m      5\u001b[0m \u001b[1;33m\u001b[0m\u001b[0m\n",
      "\u001b[1;31mValueError\u001b[0m: invalid literal for int() with base 10: ''"
     ]
    }
   ],
   "source": [
    "li=[]\n",
    "for _ in range(int(input())):\n",
    "    li.append(int(input()))\n",
    "li=sorted(li)\n",
    "\n",
    "#평균\n",
    "print(int(round(sum(li[0:len(li)+1])/len(li),0)))\n",
    "\n",
    "#중앙값\n",
    "print(li[len(li)//2])\n",
    "\n",
    "#최빈값\n",
    "dic={}\n",
    "for x in li:\n",
    "    dic[x]=0\n",
    "for x in li:\n",
    "    dic[x]+=1\n",
    "count=0\n",
    "value=[]\n",
    "\n",
    "for i in dic:\n",
    "    if dic[i]==max(dic.values()):\n",
    "        count+=1\n",
    "        value.append(i)\n",
    "value=sorted(value)\n",
    "if count==1:\n",
    "    print(value[0])\n",
    "else:\n",
    "    print(value[1])\n",
    "\n",
    "#범위\n",
    "print(max(li)-min(li))"
   ]
  },
  {
   "cell_type": "markdown",
   "id": "619e06be",
   "metadata": {},
   "source": [
    "->python3에서는 sys사용해도 안됐지만 pypy3는 됐음.\\\n",
    "뭐 찾아보니까 from collections import Counter사용하래."
   ]
  },
  {
   "cell_type": "code",
   "execution_count": 98,
   "id": "182c2fb9",
   "metadata": {
    "scrolled": true
   },
   "outputs": [
    {
     "ename": "ValueError",
     "evalue": "invalid literal for int() with base 10: ''",
     "output_type": "error",
     "traceback": [
      "\u001b[1;31m---------------------------------------------------------------------------\u001b[0m",
      "\u001b[1;31mValueError\u001b[0m                                Traceback (most recent call last)",
      "\u001b[1;32m<ipython-input-98-db5deed14724>\u001b[0m in \u001b[0;36m<module>\u001b[1;34m\u001b[0m\n\u001b[0;32m      3\u001b[0m \u001b[0minput1111\u001b[0m\u001b[1;33m=\u001b[0m\u001b[0msys\u001b[0m\u001b[1;33m.\u001b[0m\u001b[0mstdin\u001b[0m\u001b[1;33m.\u001b[0m\u001b[0mreadline\u001b[0m\u001b[1;33m\u001b[0m\u001b[1;33m\u001b[0m\u001b[0m\n\u001b[0;32m      4\u001b[0m \u001b[0marr\u001b[0m\u001b[1;33m=\u001b[0m\u001b[1;33m[\u001b[0m\u001b[1;33m]\u001b[0m\u001b[1;33m\u001b[0m\u001b[1;33m\u001b[0m\u001b[0m\n\u001b[1;32m----> 5\u001b[1;33m \u001b[1;32mfor\u001b[0m \u001b[0mi\u001b[0m \u001b[1;32min\u001b[0m \u001b[0mrange\u001b[0m\u001b[1;33m(\u001b[0m\u001b[0mint\u001b[0m\u001b[1;33m(\u001b[0m\u001b[0minput\u001b[0m\u001b[1;33m(\u001b[0m\u001b[1;33m)\u001b[0m\u001b[1;33m)\u001b[0m\u001b[1;33m)\u001b[0m\u001b[1;33m:\u001b[0m\u001b[1;33m\u001b[0m\u001b[1;33m\u001b[0m\u001b[0m\n\u001b[0m\u001b[0;32m      6\u001b[0m     \u001b[0marr\u001b[0m\u001b[1;33m.\u001b[0m\u001b[0mappend\u001b[0m\u001b[1;33m(\u001b[0m\u001b[0mint\u001b[0m\u001b[1;33m(\u001b[0m\u001b[0minput\u001b[0m\u001b[1;33m(\u001b[0m\u001b[1;33m)\u001b[0m\u001b[1;33m)\u001b[0m\u001b[1;33m)\u001b[0m\u001b[1;33m\u001b[0m\u001b[1;33m\u001b[0m\u001b[0m\n\u001b[0;32m      7\u001b[0m \u001b[0marr\u001b[0m\u001b[1;33m.\u001b[0m\u001b[0msort\u001b[0m\u001b[1;33m(\u001b[0m\u001b[1;33m)\u001b[0m\u001b[1;33m\u001b[0m\u001b[1;33m\u001b[0m\u001b[0m\n",
      "\u001b[1;31mValueError\u001b[0m: invalid literal for int() with base 10: ''"
     ]
    }
   ],
   "source": [
    "import sys\n",
    "import statistics as st\n",
    "input=sys.stdin.readline\n",
    "arr=[]\n",
    "for i in range(int(input().rstrip())):\n",
    "    arr.append(int(input().rstrip()))\n",
    "arr.sort()\n",
    "print(round(st.mean(arr)))\n",
    "print(st.median(arr))\n",
    "if(len(st.multimode(arr))>=2):\n",
    "    print(st.multimode(arr)[1])\n",
    "else:\n",
    "    print(st.mode(arrr))\n",
    "print(f'{max(arr)-min(arr)}')"
   ]
  },
  {
   "cell_type": "markdown",
   "id": "c54ed0f7",
   "metadata": {},
   "source": [
    "다른사람 답변. 뭐 함수 불러와서 쓴듯?근데 안돌아가욤. "
   ]
  },
  {
   "cell_type": "markdown",
   "id": "c9bf23ff",
   "metadata": {},
   "source": [
    "# 단어 정렬\n",
    "정렬 순서 1.길이 짧은 것 부터 2.길이가 같으면 사전 순으로"
   ]
  },
  {
   "cell_type": "code",
   "execution_count": 15,
   "id": "7ad23cee",
   "metadata": {},
   "outputs": [
    {
     "name": "stdout",
     "output_type": "stream",
     "text": [
      "13\n",
      "but\n",
      "i \n",
      "wont\n",
      "hestiate\n",
      "no\n",
      "more\n",
      "no\n",
      "more\n",
      "it\n",
      "cnacno\n",
      "watit\n",
      "im\n",
      "yours\n"
     ]
    },
    {
     "data": {
      "text/plain": [
       "['i ',\n",
       " 'im',\n",
       " 'it',\n",
       " 'no',\n",
       " 'but',\n",
       " 'more',\n",
       " 'wont',\n",
       " 'watit',\n",
       " 'yours',\n",
       " 'cnacno',\n",
       " 'hestiate']"
      ]
     },
     "execution_count": 15,
     "metadata": {},
     "output_type": "execute_result"
    }
   ],
   "source": [
    "#핵심은 lambda사용하기\n",
    "word=[]\n",
    "for _ in range(int(input())):\n",
    "    a=input()\n",
    "    if a not in word:\n",
    "        word.append(a)\n",
    "word.sort(key=lambda x:(len(x),x))\n",
    "for x in word:\n",
    "    print(x)"
   ]
  },
  {
   "cell_type": "markdown",
   "id": "b6199d47",
   "metadata": {},
   "source": [
    "# 나이순 정렬"
   ]
  },
  {
   "cell_type": "code",
   "execution_count": 36,
   "id": "36c753ea",
   "metadata": {
    "scrolled": false
   },
   "outputs": [
    {
     "name": "stdout",
     "output_type": "stream",
     "text": [
      "3\n",
      "21 junkyu\n",
      "21 dohyun\n",
      "20 sunyoung\n",
      "20 sunyoung \n",
      "21 junkyu \n",
      "21 dohyun \n"
     ]
    }
   ],
   "source": [
    "li=[]\n",
    "for _ in range(int(input())):\n",
    "    a,b=input().split()\n",
    "    li.append([int(a),b])\n",
    "li.sort(key=lambda x: x[0])\n",
    "for x in li:\n",
    "    for y in x:\n",
    "        print(y,end=\" \")\n",
    "    print(\"\")"
   ]
  },
  {
   "cell_type": "markdown",
   "id": "c72b3cb3",
   "metadata": {},
   "source": [
    "# 좌표 압축"
   ]
  },
  {
   "cell_type": "markdown",
   "id": "187f2fd8",
   "metadata": {},
   "source": [
    "문제이해를 못했음. "
   ]
  },
  {
   "cell_type": "markdown",
   "id": "c6e32a0a",
   "metadata": {},
   "source": [
    "# 팩토리얼"
   ]
  },
  {
   "cell_type": "code",
   "execution_count": 46,
   "id": "4bcdc49b",
   "metadata": {},
   "outputs": [
    {
     "name": "stdout",
     "output_type": "stream",
     "text": [
      "0\n",
      "1\n"
     ]
    }
   ],
   "source": [
    "def factor(N):\n",
    "    if N<=1:\n",
    "        return 1\n",
    "    return N*factor(N-1)\n",
    "print(factor(int(input())))"
   ]
  },
  {
   "cell_type": "markdown",
   "id": "9188b66b",
   "metadata": {},
   "source": [
    "# 병합정렬"
   ]
  },
  {
   "cell_type": "code",
   "execution_count": null,
   "id": "a722dfc5",
   "metadata": {},
   "outputs": [],
   "source": []
  },
  {
   "cell_type": "code",
   "execution_count": null,
   "id": "d011f4f8",
   "metadata": {},
   "outputs": [],
   "source": []
  }
 ],
 "metadata": {
  "kernelspec": {
   "display_name": "Python 3",
   "language": "python",
   "name": "python3"
  },
  "language_info": {
   "codemirror_mode": {
    "name": "ipython",
    "version": 3
   },
   "file_extension": ".py",
   "mimetype": "text/x-python",
   "name": "python",
   "nbconvert_exporter": "python",
   "pygments_lexer": "ipython3",
   "version": "3.8.8"
  }
 },
 "nbformat": 4,
 "nbformat_minor": 5
}
