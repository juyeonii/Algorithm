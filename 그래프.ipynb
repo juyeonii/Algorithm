{
 "cells": [
  {
   "cell_type": "markdown",
   "id": "d2cb0ad6",
   "metadata": {},
   "source": [
    "# 인접행렬 구현하기(방향성,가중치)\n",
    "문제 정의:가중치가 있는 방향성 그래프가 주어졌을 때 이를 인접 행렬로 구현."
   ]
  },
  {
   "cell_type": "code",
   "execution_count": 24,
   "id": "3cdc7a81",
   "metadata": {},
   "outputs": [
    {
     "name": "stdout",
     "output_type": "stream",
     "text": [
      "1\n",
      "2 1\n",
      "1 0 3\n",
      "[0, 0]\n",
      "[3, 0]\n"
     ]
    }
   ],
   "source": [
    "for _ in range(int(input())):\n",
    "    N,M=map(int,input().split())\n",
    "    li=[[0]*N for _ in range(N)]\n",
    "    #li=[[0]*N]*N 이중리스트\n",
    "    for _ in range(M):\n",
    "        a,b,c=map(int,input().split())\n",
    "        li[a][b]=c\n",
    "    for i in range(N):\n",
    "        print(li[i])"
   ]
  },
  {
   "cell_type": "markdown",
   "id": "16210ba4",
   "metadata": {},
   "source": [
    "위의 출력은 리스트가 나온다."
   ]
  },
  {
   "cell_type": "code",
   "execution_count": 28,
   "id": "0282c3e7",
   "metadata": {},
   "outputs": [
    {
     "name": "stdout",
     "output_type": "stream",
     "text": [
      "1\n",
      "2 1\n",
      "1 0 3\n",
      "0 0\n",
      "3 0\n"
     ]
    }
   ],
   "source": [
    "for _ in range(int(input())):\n",
    "    N,M=map(int,input().split())\n",
    "    li=[[0]*N for _ in range(N)]\n",
    "    #li=[[0]*N]*N 이중리스트\n",
    "    for _ in range(M):\n",
    "        a,b,c=map(int,input().split())\n",
    "        li[a][b]=c\n",
    "    for i in range(N):\n",
    "        print(*li[i])"
   ]
  },
  {
   "cell_type": "code",
   "execution_count": 12,
   "id": "8c414f6d",
   "metadata": {},
   "outputs": [
    {
     "data": {
      "text/plain": [
       "[[0, 0, 0, 0]]"
      ]
     },
     "execution_count": 12,
     "metadata": {},
     "output_type": "execute_result"
    }
   ],
   "source": [
    "#이중행렬 만드는 법\n",
    "matrix=[[0]*N for _ in range(N)]"
   ]
  },
  {
   "cell_type": "markdown",
   "id": "02ebdd9e",
   "metadata": {},
   "source": [
    "# 인접리스트 구현하기(무방향성,비가중치)\n",
    "가중치가 없는 무방향성 그래프가 주어짐."
   ]
  },
  {
   "cell_type": "code",
   "execution_count": 39,
   "id": "b66d8075",
   "metadata": {},
   "outputs": [
    {
     "name": "stdout",
     "output_type": "stream",
     "text": [
      "2\n",
      "4 4 \n",
      "0 1 \n",
      "0 3\n",
      "1 2 \n",
      "1 3\n",
      "1 3\n",
      "0 2 3\n",
      "1\n",
      "0 1\n",
      "5 6\n",
      "0 1\n",
      "0 3\n",
      "0 4\n",
      "3 4 \n",
      "1 4 \n",
      "1 3 \n",
      "1 3 4\n",
      "0 3 4\n",
      "\n",
      "0 1 4\n",
      "0 1 3\n"
     ]
    }
   ],
   "source": [
    "for _ in range(int(input())):\n",
    "    N,M=map(int,input().split())\n",
    "    li=[[] for _ in range(N)]\n",
    "    for _ in range(M):\n",
    "        u,v=map(int,input().split())\n",
    "        li[u].append(v)\n",
    "        li[v].append(u)\n",
    "    for i in range(N):\n",
    "        li[i]=sorted(li[i])\n",
    "        print(*li[i])"
   ]
  },
  {
   "cell_type": "code",
   "execution_count": 38,
   "id": "2f39f59b",
   "metadata": {},
   "outputs": [
    {
     "data": {
      "text/plain": [
       "[[0, 1], [0, 2, 3], [1], [1, 3]]"
      ]
     },
     "execution_count": 38,
     "metadata": {},
     "output_type": "execute_result"
    }
   ],
   "source": [
    "a=[[1,3],[0,2,3],[1],[0,1]]\n",
    "a=sorted(a)\n",
    "a\n",
    "#이렇게하면 내부 안에서 정렬된다."
   ]
  },
  {
   "cell_type": "markdown",
   "id": "f43d4cc9",
   "metadata": {},
   "source": [
    "# BFS(너비 우선 탐색)\n",
    "-시작 노드에서 인접한 노드들을 먼저 탐색하는 방법\\\n",
    "-큐를 사용하는 방법\n",
    "- Breadth-first search"
   ]
  },
  {
   "cell_type": "code",
   "execution_count": null,
   "id": "178381b8",
   "metadata": {},
   "outputs": [],
   "source": [
    "from collections import deque\n",
    "n,m,r=map(int,input().split())\n",
    "li=[[] for _ in range(n+1)] #시작점이 1부터여서.\n",
    "visited=[0]*(n+1) #방문리스트\n",
    "for _ in range(m): #인접리스트 생성하기\n",
    "    a,b=map(int,input().split())\n",
    "    li[a].append(b)\n",
    "for i in range(N):\n",
    "    li[i]=sorted(li[i])\n",
    "queue=deque([r]) #첫방문 넣어주기\n",
    "while queue:\n",
    "    v=queue.popleft()\n",
    "    if visited[v]==1:\n",
    "        continue\n",
    "    visited[v]=1\n",
    "    print(v,end=\" \") \n",
    "    for i in li[v]:\n",
    "        if visited[v]==0:\n",
    "            Queue.append(i)"
   ]
  },
  {
   "cell_type": "code",
   "execution_count": 68,
   "id": "226f1b71",
   "metadata": {
    "scrolled": true
   },
   "outputs": [
    {
     "name": "stdout",
     "output_type": "stream",
     "text": [
      "5 5 1\n",
      "1 4\n",
      "1 2\n",
      "2 3 \n",
      "2 4\n",
      "3 4\n",
      "1\n",
      "2\n",
      "4\n",
      "3\n",
      "0\n"
     ]
    }
   ],
   "source": [
    "#백준 정답\n",
    "from collections import deque\n",
    "n,m,r=map(int,input().split())\n",
    "li=[[] for _ in range(n+1)]\n",
    "visited=[0]*(n+1)\n",
    "for _ in range(m):\n",
    "    a,b=map(int,input().split())\n",
    "    li[a].append(b)\n",
    "    \n",
    "def bfs(r):\n",
    "    queue=deque([r])\n",
    "    while queue:\n",
    "        x=queue.popleft()\n",
    "        if visited[x]==1:\n",
    "            continue\n",
    "        visited[x]=1\n",
    "        print(x)\n",
    "        li[x]=sorted(li[x])\n",
    "        for i in li[x]:\n",
    "            if visited[i]==0:\n",
    "                queue.append(i)\n",
    "bfs(r)\n",
    "for i in visited[1:]:\n",
    "    if i==0:\n",
    "        print(i)"
   ]
  },
  {
   "cell_type": "markdown",
   "id": "4995dd8a",
   "metadata": {},
   "source": [
    "# DFS(깊이 우선 탐색)"
   ]
  },
  {
   "cell_type": "code",
   "execution_count": 8,
   "id": "1a3fc953",
   "metadata": {},
   "outputs": [
    {
     "name": "stdout",
     "output_type": "stream",
     "text": [
      "5 5 1\n",
      "1 4\n",
      "1 2 \n",
      "2 3\n",
      "2 4\n",
      "3 4\n",
      "1\n",
      "2\n",
      "3\n",
      "4\n",
      "0\n"
     ]
    }
   ],
   "source": [
    "#재귀\n",
    "import sys\n",
    "sys.setrecursionlimit(1000000)\n",
    "\n",
    "def DFS(v,List,Check):\n",
    "    print(v)\n",
    "    Check[v]=True \n",
    "    for i in List[v]: #v와 연결된 모든 정점 중에\n",
    "        if Check[i]==False: #아직 가지 않은 i가 있다면\n",
    "            DFS(i,List,Check) #바로 i에서 DFS를 다시 시작\n",
    "N,M,r=map(int,input().split())\n",
    "List=[[] for _ in range(N)]\n",
    "for  i in range(M):\n",
    "    u,v=map(int,input().split())\n",
    "    List[u].append(v)\n",
    "    List[v].append(u)\n",
    "for i in range(N):\n",
    "    List[i].sort()\n",
    "    \n",
    "Check=[False]*(N+1)\n",
    "DFS(r,List,Check)\n",
    "for i in range(1,N+1):\n",
    "    if Check[i]==0:\n",
    "        print(\"0\")"
   ]
  },
  {
   "cell_type": "code",
   "execution_count": null,
   "id": "ba6d9bac",
   "metadata": {},
   "outputs": [],
   "source": [
    "#DFS(스택)\n",
    "N,M,r=map(int,input().split())\n",
    "List=[[] for _ in range(N)]\n",
    "for i in range(M):\n",
    "    u,v=map(int,input().split())\n",
    "    List[u].append(v)\n",
    "    List[v].append(u)\n",
    "for i in range(N):\n",
    "    List[i].sort(reverse=True)\n",
    "check=[False]*(N+1)\n",
    "stack=[r]\n",
    "while stack:\n",
    "    v=stack.pop()\n",
    "    if check[v]==1:\n",
    "        continue\n",
    "    check[v]==1\n",
    "    print(v)\n",
    "    for i in List[v]:\n",
    "        if Check[i]==False:\n",
    "            stack.append(i)\n"
   ]
  },
  {
   "cell_type": "code",
   "execution_count": null,
   "id": "a30730ec",
   "metadata": {},
   "outputs": [],
   "source": [
    "#dfs최단거리 예시\n",
    "from collections import deque\n",
    "def solution(maps):\n",
    "    n=len(maps) #행\n",
    "    m=len(maps[0]) #열\n",
    "    visited=[[0]*m for _ in range(n)]\n",
    "    visited[0][0]=1\n",
    "    dx=[1,-1,0,0]\n",
    "    dy=[0,0,1,-1]\n",
    "    queue=deque([(0,0)])\n",
    "    while queue:\n",
    "        x,y=queue.popleft() #현재좌표\n",
    "        for i in range(4):\n",
    "            nx=x+dx[i]\n",
    "            ny=y+dy[i]\n",
    "            if 0<=nx<n and 0<=ny<m: #맵안에 속한다면\n",
    "                if maps[nx][ny]==1 and visited[nx][ny]==0:\n",
    "                    queue.append((nx,ny))\n",
    "                    visited[nx][ny]=visited[x][y]+1\n",
    "    return visited[-1][-1] if visited[-1][-1] else -1"
   ]
  },
  {
   "cell_type": "markdown",
   "id": "a1548e63",
   "metadata": {},
   "source": [
    "# 네트워크 갯수"
   ]
  },
  {
   "cell_type": "code",
   "execution_count": null,
   "id": "1468918a",
   "metadata": {},
   "outputs": [],
   "source": [
    "from collections import deque\n",
    "def solution(n,computers):\n",
    "    answer=0\n",
    "    visited=[0]*n\n",
    "    for i in range(n):\n",
    "        if visited[i]==1:\n",
    "            continue\n",
    "        visited[i]=1\n",
    "        queue=deque"
   ]
  }
 ],
 "metadata": {
  "kernelspec": {
   "display_name": "Python 3",
   "language": "python",
   "name": "python3"
  },
  "language_info": {
   "codemirror_mode": {
    "name": "ipython",
    "version": 3
   },
   "file_extension": ".py",
   "mimetype": "text/x-python",
   "name": "python",
   "nbconvert_exporter": "python",
   "pygments_lexer": "ipython3",
   "version": "3.8.8"
  }
 },
 "nbformat": 4,
 "nbformat_minor": 5
}
