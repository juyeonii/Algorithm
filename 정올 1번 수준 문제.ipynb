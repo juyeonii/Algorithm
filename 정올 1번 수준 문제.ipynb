{
 "cells": [
  {
   "cell_type": "markdown",
   "id": "4633faaf",
   "metadata": {},
   "source": [
    "# 1. 3 6 9 게임의 왕이 되자"
   ]
  },
  {
   "cell_type": "code",
   "execution_count": 3,
   "id": "d62420f5",
   "metadata": {},
   "outputs": [
    {
     "name": "stdout",
     "output_type": "stream",
     "text": [
      "17\n",
      "1 2 X 4 5 X 7 8 X 10 11 12 X 14 15 X 17 "
     ]
    }
   ],
   "source": [
    "N=int(input())\n",
    "for i in range(1,N+1):\n",
    "    if i%10==3:\n",
    "        print(\"X\",end=\" \")\n",
    "    elif i%10==6:\n",
    "        print(\"X\",end=\" \")\n",
    "    elif i%10==9:\n",
    "        print(\"X\",end=\" \")\n",
    "    else:print(i,end=\" \")"
   ]
  },
  {
   "cell_type": "markdown",
   "id": "6949a244",
   "metadata": {},
   "source": [
    "# 4011. 생년월일 출력"
   ]
  },
  {
   "cell_type": "code",
   "execution_count": 23,
   "id": "5dbd3060",
   "metadata": {},
   "outputs": [
    {
     "name": "stdout",
     "output_type": "stream",
     "text": [
      "000527-3475845\n",
      "2000/05/27 M\n"
     ]
    }
   ],
   "source": [
    "number=input()\n",
    "def year(a,b):\n",
    "    if b==\"1\" or b==\"2\":\n",
    "        return \"19\"+a\n",
    "    elif b==\"3\" or b==\"4\":\n",
    "        return \"20\"+a\n",
    "month=number[2:4]\n",
    "day=number[4:6]\n",
    "def sex(a):\n",
    "    if a==\"1\" or a==\"3\":\n",
    "        return \"M\"\n",
    "    elif a==\"2\" or a==\"4\":\n",
    "        return \"F\"\n",
    "gender=sex(number[7])\n",
    "print(year(number[0:2],number[7])+\"/\"+month+\"/\"+day+\" \"+gender)"
   ]
  },
  {
   "cell_type": "markdown",
   "id": "6e208fbd",
   "metadata": {},
   "source": [
    "# 4041. 숫자 다루기"
   ]
  },
  {
   "cell_type": "code",
   "execution_count": 69,
   "id": "e8259999",
   "metadata": {},
   "outputs": [
    {
     "name": "stdout",
     "output_type": "stream",
     "text": [
      "1234\n",
      "4321\n",
      "10\n"
     ]
    }
   ],
   "source": [
    "N=input()\n",
    "i=-1\n",
    "count=0\n",
    "word=\"\"\n",
    "for _ in range(len(N)):\n",
    "    word+=N[i]\n",
    "    count+=int(N[i])\n",
    "    i-=1\n",
    "print(int(word))\n",
    "print(count)\n",
    "    "
   ]
  },
  {
   "cell_type": "markdown",
   "id": "593c920f",
   "metadata": {},
   "source": [
    "# 4051. 시간외 근무 수당"
   ]
  },
  {
   "cell_type": "code",
   "execution_count": 79,
   "id": "670022cf",
   "metadata": {},
   "outputs": [
    {
     "name": "stdout",
     "output_type": "stream",
     "text": [
      "17 23.5 \n",
      "19.5 24\n",
      "20.5 23.5\n",
      "19.5 24\n",
      "16 24\n",
      "161500\n"
     ]
    }
   ],
   "source": [
    "count=0\n",
    "time=0\n",
    "for _ in range(5):\n",
    "    a,b=map(float,input().split())\n",
    "    if a+1<b and b-a<=5:\n",
    "        time+=(b-a-1)\n",
    "        count+=(b-a-1)*10000\n",
    "    elif a+1<b and b-a>5:\n",
    "        time+=4\n",
    "        count+=4*10000\n",
    "        \n",
    "if time>=15:\n",
    "    print(int(count*0.95))\n",
    "elif time<=5:\n",
    "    print(int(count*1.05))\n",
    "else:print(int(count))"
   ]
  },
  {
   "cell_type": "markdown",
   "id": "56ae29e0",
   "metadata": {},
   "source": [
    "# 4691. 주사위 네 개"
   ]
  },
  {
   "cell_type": "code",
   "execution_count": null,
   "id": "416bb0eb",
   "metadata": {},
   "outputs": [],
   "source": [
    "for _ in range(int(input()))"
   ]
  },
  {
   "cell_type": "markdown",
   "id": "00446d03",
   "metadata": {},
   "source": [
    "# 4726. 수열"
   ]
  },
  {
   "cell_type": "code",
   "execution_count": 40,
   "id": "2f30375d",
   "metadata": {
    "scrolled": true
   },
   "outputs": [
    {
     "name": "stdout",
     "output_type": "stream",
     "text": [
      "10 2\n",
      "3 -2 -4 -9 0 3 7 13 8 -3\n",
      "19\n"
     ]
    }
   ],
   "source": [
    "N,K=map(int,input().split())\n",
    "li=list(map(int,input().split())) \n",
    "new=[]\n",
    "for _ in range(K):\n",
    "    count=0\n",
    "    for i in range(N-K+1):\n",
    "        count+=li[i]\n",
    "        i+=1\n",
    "    new.append(count)\n",
    "print(max(new))"
   ]
  },
  {
   "cell_type": "markdown",
   "id": "6ca3988c",
   "metadata": {},
   "source": [
    "# 4721. 투표"
   ]
  },
  {
   "cell_type": "code",
   "execution_count": 20,
   "id": "51efdfc1",
   "metadata": {},
   "outputs": [
    {
     "name": "stdout",
     "output_type": "stream",
     "text": [
      "6\n",
      "3 1 2 \n",
      "2 3 1\n",
      "3 1 2\n",
      "1 2 3\n",
      "3 1 2 \n",
      "1 2 3\n"
     ]
    },
    {
     "ename": "NameError",
     "evalue": "name 'di' is not defined",
     "output_type": "error",
     "traceback": [
      "\u001b[1;31m---------------------------------------------------------------------------\u001b[0m",
      "\u001b[1;31mNameError\u001b[0m                                 Traceback (most recent call last)",
      "\u001b[1;32m<ipython-input-20-920ef143f87a>\u001b[0m in \u001b[0;36m<module>\u001b[1;34m\u001b[0m\n\u001b[0;32m     27\u001b[0m     \u001b[0mprint\u001b[0m\u001b[1;33m(\u001b[0m\u001b[0mind\u001b[0m\u001b[1;33m[\u001b[0m\u001b[1;36m0\u001b[0m\u001b[1;33m]\u001b[0m\u001b[1;33m+\u001b[0m\u001b[1;36m1\u001b[0m\u001b[1;33m,\u001b[0m\u001b[0mmaxi\u001b[0m\u001b[1;33m)\u001b[0m\u001b[1;33m\u001b[0m\u001b[1;33m\u001b[0m\u001b[0m\n\u001b[0;32m     28\u001b[0m \u001b[1;32melif\u001b[0m \u001b[0mcount\u001b[0m\u001b[1;33m==\u001b[0m\u001b[1;36m2\u001b[0m\u001b[1;33m:\u001b[0m\u001b[1;33m\u001b[0m\u001b[1;33m\u001b[0m\u001b[0m\n\u001b[1;32m---> 29\u001b[1;33m     \u001b[1;32mif\u001b[0m \u001b[1;33m(\u001b[0m\u001b[0mdi\u001b[0m\u001b[1;33m+\u001b[0m\u001b[1;34m\"ind[0]\"\u001b[0m\u001b[1;33m)\u001b[0m\u001b[1;33m[\u001b[0m\u001b[1;36m3\u001b[0m\u001b[1;33m]\u001b[0m\u001b[1;33m>\u001b[0m\u001b[1;33m(\u001b[0m\u001b[0mdi\u001b[0m\u001b[1;33m+\u001b[0m\u001b[1;34m\"ind[1]\"\u001b[0m\u001b[1;33m)\u001b[0m\u001b[1;33m[\u001b[0m\u001b[1;36m3\u001b[0m\u001b[1;33m]\u001b[0m\u001b[1;33m:\u001b[0m\u001b[1;33m\u001b[0m\u001b[1;33m\u001b[0m\u001b[0m\n\u001b[0m\u001b[0;32m     30\u001b[0m         \u001b[0mprint\u001b[0m\u001b[1;33m(\u001b[0m\u001b[0mind\u001b[0m\u001b[1;33m[\u001b[0m\u001b[1;36m0\u001b[0m\u001b[1;33m]\u001b[0m\u001b[1;33m+\u001b[0m\u001b[1;36m1\u001b[0m\u001b[1;33m,\u001b[0m\u001b[0mmaxi\u001b[0m\u001b[1;33m)\u001b[0m\u001b[1;33m\u001b[0m\u001b[1;33m\u001b[0m\u001b[0m\n\u001b[0;32m     31\u001b[0m \u001b[1;33m\u001b[0m\u001b[0m\n",
      "\u001b[1;31mNameError\u001b[0m: name 'di' is not defined"
     ]
    }
   ],
   "source": [
    "sum1,sum2,sum3=0,0,0\n",
    "di1={1:0,2:0,3:0}\n",
    "di2={1:0,2:0,3:0}\n",
    "di3={1:0,2:0,3:0}\n",
    "li=[]\n",
    "for _ in range(int(input())):\n",
    "    a,b,c=map(int,input().split())\n",
    "    sum1+=a\n",
    "    sum2+=b\n",
    "    sum3+=c\n",
    "    di1[a]+=1\n",
    "    di2[b]+=1\n",
    "    di3[b]+=1\n",
    "li.append(sum1)\n",
    "li.append(sum2)\n",
    "li.append(sum3)\n",
    "\n",
    "count=0\n",
    "ind=[]\n",
    "maxi=max(li)\n",
    "for i in range(len(li)):\n",
    "    if li[i]==maxi:\n",
    "        count+=1\n",
    "        ind.append(i)\n",
    "        \n",
    "if count==1:\n",
    "    print(ind[0]+1,maxi)\n",
    "elif count==2:\n",
    "    if (di+\"ind[0]\")[3]>(di+\"ind[1]\")[3]:\n",
    "        print(ind[0]+1,maxi)\n",
    "    "
   ]
  },
  {
   "cell_type": "code",
   "execution_count": 19,
   "id": "5c98131d",
   "metadata": {},
   "outputs": [
    {
     "ename": "TypeError",
     "evalue": "unhashable type: 'dict'",
     "output_type": "error",
     "traceback": [
      "\u001b[1;31m---------------------------------------------------------------------------\u001b[0m",
      "\u001b[1;31mTypeError\u001b[0m                                 Traceback (most recent call last)",
      "\u001b[1;32m<ipython-input-19-430d5e95495f>\u001b[0m in \u001b[0;36m<module>\u001b[1;34m\u001b[0m\n\u001b[0;32m      2\u001b[0m \u001b[0mdi2\u001b[0m\u001b[1;33m=\u001b[0m\u001b[1;33m{\u001b[0m\u001b[1;36m1\u001b[0m\u001b[1;33m:\u001b[0m\u001b[1;36m0\u001b[0m\u001b[1;33m,\u001b[0m\u001b[1;36m2\u001b[0m\u001b[1;33m:\u001b[0m\u001b[1;36m0\u001b[0m\u001b[1;33m,\u001b[0m\u001b[1;36m3\u001b[0m\u001b[1;33m:\u001b[0m\u001b[1;36m0\u001b[0m\u001b[1;33m}\u001b[0m\u001b[1;33m\u001b[0m\u001b[1;33m\u001b[0m\u001b[0m\n\u001b[0;32m      3\u001b[0m \u001b[0mdi3\u001b[0m\u001b[1;33m=\u001b[0m\u001b[1;33m{\u001b[0m\u001b[1;36m1\u001b[0m\u001b[1;33m:\u001b[0m\u001b[1;36m0\u001b[0m\u001b[1;33m,\u001b[0m\u001b[1;36m2\u001b[0m\u001b[1;33m:\u001b[0m\u001b[1;36m0\u001b[0m\u001b[1;33m,\u001b[0m\u001b[1;36m3\u001b[0m\u001b[1;33m:\u001b[0m\u001b[1;36m0\u001b[0m\u001b[1;33m}\u001b[0m\u001b[1;33m\u001b[0m\u001b[1;33m\u001b[0m\u001b[0m\n\u001b[1;32m----> 4\u001b[1;33m \u001b[0mdi\u001b[0m\u001b[1;33m=\u001b[0m\u001b[1;33m{\u001b[0m\u001b[0mdi1\u001b[0m\u001b[1;33m,\u001b[0m\u001b[0mdi2\u001b[0m\u001b[1;33m,\u001b[0m\u001b[0mdi3\u001b[0m\u001b[1;33m}\u001b[0m\u001b[1;33m\u001b[0m\u001b[1;33m\u001b[0m\u001b[0m\n\u001b[0m\u001b[0;32m      5\u001b[0m \u001b[0mdi\u001b[0m\u001b[1;33m\u001b[0m\u001b[1;33m\u001b[0m\u001b[0m\n",
      "\u001b[1;31mTypeError\u001b[0m: unhashable type: 'dict'"
     ]
    }
   ],
   "source": [
    "di1={1:0,2:0,3:0}\n",
    "di2={1:0,2:0,3:0}\n",
    "di3={1:0,2:0,3:0}\n",
    "di={di1,di2,di3}\n",
    "di"
   ]
  },
  {
   "cell_type": "code",
   "execution_count": null,
   "id": "28f25160",
   "metadata": {},
   "outputs": [],
   "source": []
  },
  {
   "cell_type": "code",
   "execution_count": null,
   "id": "5f995862",
   "metadata": {},
   "outputs": [],
   "source": []
  }
 ],
 "metadata": {
  "kernelspec": {
   "display_name": "Python 3",
   "language": "python",
   "name": "python3"
  },
  "language_info": {
   "codemirror_mode": {
    "name": "ipython",
    "version": 3
   },
   "file_extension": ".py",
   "mimetype": "text/x-python",
   "name": "python",
   "nbconvert_exporter": "python",
   "pygments_lexer": "ipython3",
   "version": "3.8.8"
  }
 },
 "nbformat": 4,
 "nbformat_minor": 5
}
