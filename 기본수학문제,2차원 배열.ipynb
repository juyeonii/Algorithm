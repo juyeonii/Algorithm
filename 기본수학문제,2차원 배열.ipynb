{
 "cells": [
  {
   "cell_type": "markdown",
   "id": "b81c853e",
   "metadata": {},
   "source": [
    "# 손익분기점"
   ]
  },
  {
   "cell_type": "code",
   "execution_count": 22,
   "id": "fde483f2",
   "metadata": {},
   "outputs": [
    {
     "name": "stdout",
     "output_type": "stream",
     "text": [
      "3 2 1\n",
      "-1\n"
     ]
    }
   ],
   "source": [
    "A,B,C=map(int,input().split())\n",
    "count=1\n",
    "if B>=C:print(-1)\n",
    "else:\n",
    "    while C*count<=A+B*count:\n",
    "        count+=1 \n",
    "    print(count)"
   ]
  },
  {
   "cell_type": "markdown",
   "id": "96f0b04a",
   "metadata": {},
   "source": [
    "해당 코드는 논리적으로 맞으나 시간 초과로 실패함 ㅠㅠ.."
   ]
  },
  {
   "cell_type": "code",
   "execution_count": 23,
   "id": "45860534",
   "metadata": {},
   "outputs": [
    {
     "name": "stdout",
     "output_type": "stream",
     "text": [
      "3 2 1\n",
      "-1\n"
     ]
    }
   ],
   "source": [
    "#solution\n",
    "A,B,C=map(int,input().split())\n",
    "if B>=C:print(-1)\n",
    "else:\n",
    "    print(A//(C-B)+1)"
   ]
  },
  {
   "cell_type": "markdown",
   "id": "9d24390f",
   "metadata": {},
   "source": [
    "# 달팽이는 올라가고 싶다."
   ]
  },
  {
   "cell_type": "code",
   "execution_count": 34,
   "id": "6505dd80",
   "metadata": {},
   "outputs": [
    {
     "name": "stdout",
     "output_type": "stream",
     "text": [
      "100 99 1000000000\n",
      "999999901\n"
     ]
    }
   ],
   "source": [
    "A,B,V=map(int,input().split())\n",
    "if (V-B)%(A-B)==0:\n",
    "    print(((V-B)//(A-B)))\n",
    "else:print((V-B)//(A-B)+1)"
   ]
  },
  {
   "cell_type": "markdown",
   "id": "66a8338f",
   "metadata": {},
   "source": [
    "# ACM 호텔"
   ]
  },
  {
   "cell_type": "code",
   "execution_count": 74,
   "id": "0cf206e0",
   "metadata": {},
   "outputs": [
    {
     "name": "stdout",
     "output_type": "stream",
     "text": [
      "2\n",
      "6 12 10\n",
      "402\n",
      "6 12 60\n",
      "610\n"
     ]
    }
   ],
   "source": [
    "for _ in range(int(input())):\n",
    "    H,W,N=map(int,input().split())\n",
    "    if H==W:\n",
    "        if N%H==0:\n",
    "            print(str(H)+\"0\"+str(N//H))\n",
    "        else:\n",
    "            print(str(N%H)+\"0\"+str(N//H+1))\n",
    "    else:\n",
    "        if N//H+1>=10:\n",
    "            if N%H==0:\n",
    "                print(str(H)+str(N//H))\n",
    "            else:\n",
    "                print(str(N%H)+str(N//H+1))\n",
    "        else:\n",
    "            if N%H==0:\n",
    "                print(str(H)+\"0\"+str(N//H))\n",
    "            else:\n",
    "                print(str(N%H)+\"0\"+str(N//H+1))"
   ]
  },
  {
   "cell_type": "markdown",
   "id": "02605868",
   "metadata": {},
   "source": [
    "반례를 못찾겠습니다...."
   ]
  },
  {
   "cell_type": "markdown",
   "id": "f72f548a",
   "metadata": {},
   "source": [
    "# 소수구하기"
   ]
  },
  {
   "cell_type": "code",
   "execution_count": 82,
   "id": "eea4c8ba",
   "metadata": {},
   "outputs": [
    {
     "name": "stdout",
     "output_type": "stream",
     "text": [
      "3 16\n",
      "3\n",
      "5\n",
      "7\n",
      "11\n",
      "13\n"
     ]
    }
   ],
   "source": [
    "N,M=map(int,input().split())\n",
    "for i in range(N,M+1):\n",
    "    for j in range(2,i//2+1):\n",
    "        if i%j==0:\n",
    "            break\n",
    "    else:\n",
    "        print(i) #안멈췄을때 "
   ]
  },
  {
   "cell_type": "markdown",
   "id": "decdd21b",
   "metadata": {},
   "source": [
    "->시간 초과(에라토스네스의 체를 사용하라네...에휴)"
   ]
  },
  {
   "cell_type": "code",
   "execution_count": 86,
   "id": "9fc85b8b",
   "metadata": {},
   "outputs": [
    {
     "name": "stdout",
     "output_type": "stream",
     "text": [
      "3 16\n",
      "3\n",
      "5\n",
      "7\n",
      "11\n",
      "13\n"
     ]
    }
   ],
   "source": [
    "a,b = map(int,input().split())\n",
    "\n",
    "li = [0]*(b+1)\n",
    "\n",
    "for i in range(2,b+1):\n",
    "    if li[i] == 0:\n",
    "        if i >= a:\n",
    "            print(i)\n",
    "        for j in range(2*i,b+1,i):\n",
    "            li[j] =1"
   ]
  },
  {
   "cell_type": "markdown",
   "id": "c08f7c8c",
   "metadata": {},
   "source": [
    "i의 배수들은 다 1로 만드는 방식... ㅠㅠ어려워요"
   ]
  },
  {
   "cell_type": "markdown",
   "id": "cc00ffe1",
   "metadata": {},
   "source": [
    "# 배열 -최댓값"
   ]
  },
  {
   "cell_type": "code",
   "execution_count": 94,
   "id": "4e9d3fe0",
   "metadata": {},
   "outputs": [
    {
     "name": "stdout",
     "output_type": "stream",
     "text": [
      "3 23 85 34 17 74 25 52 65\n",
      "10 7 39 42 88 52 14 72 63\n",
      "87 42 18 78 53 45 18 84 53\n",
      "34 28 64 85 12 16 75 36 55\n",
      "21 77 45 35 28 75 90 76 1\n",
      "25 87 65 15 28 11 37 28 74\n",
      "65 27 75 41 7 89 78 64 39\n",
      "47 47 70 45 23 65 3 41 44\n",
      "87 13 82 38 31 12 29 29 80\n",
      "90\n",
      "4 6\n"
     ]
    }
   ],
   "source": [
    "a=[]\n",
    "for _ in range(9):\n",
    "    a.append(list(map(int,input().split())))\n",
    "max=0\n",
    "ii=0\n",
    "jj=0\n",
    "for i in range(9):\n",
    "    for j in range(9):\n",
    "        if a[i][j]>=max:\n",
    "            max=a[i][j]\n",
    "            ii=i\n",
    "            jj=j\n",
    "print(max)\n",
    "print(ii+1,jj+1)"
   ]
  }
 ],
 "metadata": {
  "kernelspec": {
   "display_name": "Python 3",
   "language": "python",
   "name": "python3"
  },
  "language_info": {
   "codemirror_mode": {
    "name": "ipython",
    "version": 3
   },
   "file_extension": ".py",
   "mimetype": "text/x-python",
   "name": "python",
   "nbconvert_exporter": "python",
   "pygments_lexer": "ipython3",
   "version": "3.8.8"
  }
 },
 "nbformat": 4,
 "nbformat_minor": 5
}
