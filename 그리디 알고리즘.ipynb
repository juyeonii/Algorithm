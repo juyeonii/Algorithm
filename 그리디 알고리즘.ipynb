{
 "cells": [
  {
   "cell_type": "markdown",
   "id": "60c7963e",
   "metadata": {},
   "source": [
    "# ATM"
   ]
  },
  {
   "cell_type": "code",
   "execution_count": 6,
   "id": "6d69fe35",
   "metadata": {},
   "outputs": [
    {
     "name": "stdout",
     "output_type": "stream",
     "text": [
      "5\n",
      "3 1 4 3 2\n",
      "32\n"
     ]
    }
   ],
   "source": [
    "N=int(input())\n",
    "li=list(map(int,input().split()))\n",
    "li=sorted(li)\n",
    "ans=[]\n",
    "for i in range(N):\n",
    "    count=0\n",
    "    for j in range(i+1):\n",
    "        count+=li[j]\n",
    "    ans.append(count)\n",
    "print(sum(ans))"
   ]
  },
  {
   "cell_type": "markdown",
   "id": "3c7f45e7",
   "metadata": {},
   "source": [
    "시간이 적게 걸리는 것부터 정렬"
   ]
  },
  {
   "cell_type": "markdown",
   "id": "e4663f40",
   "metadata": {},
   "source": [
    "# 회의실"
   ]
  },
  {
   "cell_type": "code",
   "execution_count": 38,
   "id": "a4873d1e",
   "metadata": {},
   "outputs": [
    {
     "name": "stdout",
     "output_type": "stream",
     "text": [
      "11\n",
      "1 4\n",
      "3 5\n",
      "0 6\n",
      "5 7\n",
      "3 8\n",
      "5 9\n",
      "6 10\n",
      "8 11\n",
      "8 12\n",
      "2 13\n",
      "12 14\n",
      "4\n"
     ]
    }
   ],
   "source": [
    "li=[]\n",
    "for _ in range(int(input())):\n",
    "    li.append(list(map(int,input().split())))\n",
    "li.sort(key=lambda x : (x[1],x[0]))\n",
    "cnt=0\n",
    "last=0 #종료시간\n",
    "for start,end in li:\n",
    "    if start>=last:\n",
    "        cnt+=1\n",
    "        last=end\n",
    "print(cnt)"
   ]
  },
  {
   "cell_type": "markdown",
   "id": "3c3e5571",
   "metadata": {},
   "source": [
    "끝나는 게 빠른 놈부터 제출하는 전형적인 그리디 문제"
   ]
  },
  {
   "cell_type": "markdown",
   "id": "23707db7",
   "metadata": {},
   "source": [
    "# 잃어버린 괄호"
   ]
  },
  {
   "cell_type": "code",
   "execution_count": 28,
   "id": "8cd5a2f2",
   "metadata": {},
   "outputs": [
    {
     "name": "stdout",
     "output_type": "stream",
     "text": [
      "898-898\n",
      "0\n"
     ]
    }
   ],
   "source": [
    "s=input().split(\"-\")\n",
    "count=0\n",
    "for x in s[0].split(\"+\"):\n",
    "    count+=int(x)\n",
    "\n",
    "for x in s[1:]:\n",
    "    for j in x.split(\"+\"):\n",
    "        count-=int(j)\n",
    "print(count)"
   ]
  },
  {
   "cell_type": "markdown",
   "id": "b5a5b07f",
   "metadata": {},
   "source": [
    "# 주유소"
   ]
  },
  {
   "cell_type": "code",
   "execution_count": 30,
   "id": "314b85c1",
   "metadata": {},
   "outputs": [
    {
     "name": "stdout",
     "output_type": "stream",
     "text": [
      "4\n",
      "2 3 1\n",
      "5 2 4 1\n",
      "18\n"
     ]
    }
   ],
   "source": [
    "N=int(input())\n",
    "d=list(map(int,input().split()))\n",
    "cost=list(map(int,input().split()))\n",
    "minimum=cost[0]\n",
    "ans=0\n",
    "for i in range(N-1):\n",
    "    if cost[i]<=minimum:\n",
    "        minimum=cost[i]\n",
    "    ans+=minimum*d[i]\n",
    "print(ans)"
   ]
  }
 ],
 "metadata": {
  "kernelspec": {
   "display_name": "Python 3",
   "language": "python",
   "name": "python3"
  },
  "language_info": {
   "codemirror_mode": {
    "name": "ipython",
    "version": 3
   },
   "file_extension": ".py",
   "mimetype": "text/x-python",
   "name": "python",
   "nbconvert_exporter": "python",
   "pygments_lexer": "ipython3",
   "version": "3.8.8"
  }
 },
 "nbformat": 4,
 "nbformat_minor": 5
}
